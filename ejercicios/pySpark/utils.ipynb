{
 "cells": [
  {
   "cell_type": "code",
   "execution_count": null,
   "id": "71db4bec-ce2a-4b44-98d0-4fbdab40ff18",
   "metadata": {},
   "outputs": [],
   "source": [
    "from IPython.core.display import HTML\n",
    "display(HTML(\"<style>pre { white-space: pre !important; }</style>\"))"
   ]
  },
  {
   "cell_type": "code",
   "execution_count": null,
   "id": "0a3f5b8d-5b78-47e5-8eaf-44181654b5ed",
   "metadata": {},
   "outputs": [],
   "source": [
    "import datetime\n",
    "from pyspark.sql import Row"
   ]
  },
  {
   "cell_type": "code",
   "execution_count": null,
   "id": "e5287c6c-31c8-4c30-9f38-e1f03c0ed81d",
   "metadata": {},
   "outputs": [],
   "source": [
    "def schema_to_ddl(df):\n",
    "    return spark.sparkContext._jvm.org.apache.spark.sql.types.DataType.fromJson(df.schema.json()).toDDL()"
   ]
  },
  {
   "cell_type": "code",
   "execution_count": null,
   "id": "22d232fe-c52b-49d1-a552-50dbabc05530",
   "metadata": {},
   "outputs": [],
   "source": [
    "def difference(l1, l2):\n",
    "    return list(set(l1) - set(l2))"
   ]
  },
  {
   "cell_type": "code",
   "execution_count": null,
   "id": "e5c65a19-c541-49f4-bffd-c77ec9d552f1",
   "metadata": {},
   "outputs": [],
   "source": [
    "def write_tmp_df(df_list):\n",
    "    for df,table_name in df_list:\n",
    "        df.write.mode(\"overwrite\").parquet(\"../resources/data/tmp/parquet/\" + table_name)"
   ]
  },
  {
   "cell_type": "code",
   "execution_count": null,
   "id": "b23b0987-d583-48eb-958a-acd5e6c6932a",
   "metadata": {},
   "outputs": [],
   "source": [
    "def read_tmp_df(df_list):\n",
    "    dict_dfs = {}\n",
    "    for table_name in df_list:\n",
    "        df = spark.read.parquet(\"../resources/data/tmp/parquet/\" + table_name)\n",
    "        dict_dfs[table_name] = df\n",
    "    return dict_dfs"
   ]
  },
  {
   "cell_type": "code",
   "execution_count": null,
   "id": "9f4ec28c-3817-430a-8924-26f214e6bb40",
   "metadata": {},
   "outputs": [],
   "source": [
    "top_movies = [\n",
    "    Row(title='Band of Brothers (2001)', year=2001, genre='Action', top=1),\n",
    "    Row(title='Seven Samurai (Shichinin no samurai) (1954)', year=1954, genre='Action', top=2),\n",
    "    Row(title='Fight Club (1999)', year=1999, genre='Action', top=3),\n",
    "    Row(title='Over the Garden Wall (2013)', year=2013, genre='Adventure', top=1),\n",
    "    Row(title='Seven Samurai (Shichinin no samurai) (1954)', year=1954, genre='Adventure', top=2),\n",
    "    Row(title='Spirited Away (Sen to Chihiro no kamikakushi) (2001)', year=2001, genre='Adventure', top=3),\n",
    "    Row(title='Over the Garden Wall (2013)', year=2013, genre='Animation', top=1),\n",
    "    Row(title='Spirited Away (Sen to Chihiro no kamikakushi) (2001)', year=2001, genre='Animation', top=2),\n",
    "    Row(title='Parasite (2019)', year=2019, genre='Comedy', top=1),\n",
    "    Row(title='Dr. Strangelove or: How I Learned to Stop Worrying and Love the Bomb (1964)', year=1964, genre='Comedy', top=2),\n",
    "    Row(title='Shawshank Redemption, The (1994)', year=1994, genre='Crime', top=1),\n",
    "    Row(title='Godfather, The (1972)', year=1972, genre='Crime', top=2),\n",
    "    Row(title='Usual Suspects, The (1995)', year=1995, genre='Crime', top=3),\n",
    "    Row(title='Godfather: Part II, The (1974)', year=1974, genre='Crime', top=4),\n",
    "    Row(title='Fight Club (1999)', year=1999, genre='Crime', top=5),\n",
    "    Row(title='Planet Earth (2006)', year=2006, genre='Documentary', top=1),\n",
    "    Row(title='Planet Earth II (2016)', year=2016, genre='Documentary', top=2),\n",
    "    Row(title='Blue Planet II (2017)', year=2017, genre='Documentary', top=3),\n",
    "    Row(title='The Blue Planet (2001)', year=2001, genre='Documentary', top=4),\n",
    "    Row(title='Shawshank Redemption, The (1994)', year=1994, genre='Drama', top=1),\n",
    "    Row(title='Band of Brothers (2001)', year=2001, genre='Drama', top=2),\n",
    "    Row(title='Parasite (2019)', year=2019, genre='Drama', top=3),\n",
    "    Row(title='Godfather, The (1972)', year=1972, genre='Drama', top=4),\n",
    "    Row(title='Twin Peaks (1989)', year=1989, genre='Drama', top=5),\n",
    "    Row(title='12 Angry Men (1957)', year=1957, genre='Drama', top=6),\n",
    "    Row(title='Godfather: Part II, The (1974)', year=1974, genre='Drama', top=7),\n",
    "    Row(title='Over the Garden Wall (2013)', year=2013, genre='Drama', top=8),\n",
    "    Row(title='Seven Samurai (Shichinin no samurai) (1954)', year=1954, genre='Drama', top=9),\n",
    "    Row(title='Fight Club (1999)', year=1999, genre='Drama', top=10),\n",
    "    Row(title=\"Schindler's List (1993)\", year=1993, genre='Drama', top=11),\n",
    "    Row(title=\"One Flew Over the Cuckoo's Nest (1975)\", year=1975, genre='Drama', top=12),\n",
    "    Row(title='Lives of Others, The (Das leben der Anderen) (2006)', year=2006, genre='Drama', top=13),\n",
    "    Row(title='Casablanca (1942)', year=1942, genre='Drama', top=14),\n",
    "    Row(title='Spirited Away (Sen to Chihiro no kamikakushi) (2001)', year=2001, genre='Fantasy', top=1),\n",
    "    Row(title='Twin Peaks (1989)', year=1989, genre='Mystery', top=1),\n",
    "    Row(title='Usual Suspects, The (1995)', year=1995, genre='Mystery', top=2),\n",
    "    Row(title='Rear Window (1954)', year=1954, genre='Mystery', top=3),\n",
    "    Row(title='Lives of Others, The (Das leben der Anderen) (2006)', year=2006, genre='Romance', top=1),\n",
    "    Row(title='Casablanca (1942)', year=1942, genre='Romance', top=2),\n",
    "    Row(title='Usual Suspects, The (1995)', year=1995, genre='Thriller', top=1),\n",
    "    Row(title='Fight Club (1999)', year=1999, genre='Thriller', top=2),\n",
    "    Row(title='Rear Window (1954)', year=1954, genre='Thriller', top=3),\n",
    "    Row(title='Lives of Others, The (Das leben der Anderen) (2006)', year=2006, genre='Thriller', top=4),\n",
    "    Row(title='Band of Brothers (2001)', year=2001, genre='War', top=1),\n",
    "    Row(title=\"Schindler's List (1993)\", year=1993, genre='War', top=2),\n",
    "    Row(title='Dr. Strangelove or: How I Learned to Stop Worrying and Love the Bomb (1964)', year=1964, genre='War', top=3)]"
   ]
  }
 ],
 "metadata": {
  "kernelspec": {
   "display_name": "Python 3 (ipykernel)",
   "language": "python",
   "name": "python3"
  },
  "language_info": {
   "codemirror_mode": {
    "name": "ipython",
    "version": 3
   },
   "file_extension": ".py",
   "mimetype": "text/x-python",
   "name": "python",
   "nbconvert_exporter": "python",
   "pygments_lexer": "ipython3",
   "version": "3.9.13"
  }
 },
 "nbformat": 4,
 "nbformat_minor": 5
}
