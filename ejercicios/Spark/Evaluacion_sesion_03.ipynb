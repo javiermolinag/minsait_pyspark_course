{
 "cells": [
  {
   "cell_type": "markdown",
   "id": "a5e1cc97-a123-41da-9257-8a8790ddfc43",
   "metadata": {},
   "source": [
    "#### Como primera misión el cliente ha solicitado corroborar que dominamos el manejo de transformaciones con RDD's. Presta mucha atención a las instrucciones listadas y resuelve las actividades."
   ]
  },
  {
   "cell_type": "code",
   "execution_count": null,
   "id": "fbe5c539-c6fc-434e-8cbe-3a4f169de5cc",
   "metadata": {},
   "outputs": [],
   "source": [
    "// NO MODIFICAR CONTENIDO DE ESTA CELDA\n",
    "import org.apache.spark.sql.{SparkSession, DataFrame}\n",
    "import org.apache.spark.rdd.RDD\n",
    "import org.apache.spark.SparkContext"
   ]
  },
  {
   "cell_type": "markdown",
   "id": "ecaaf790-7728-4745-9e49-8d8365460ddf",
   "metadata": {},
   "source": [
    "#### Actividad 1:\n",
    "##### TO DO: Crear la sesion de spark y el contexto de spark. Almacenarlos en las variables \"spark\" y \"sc\" respectivamente. \n",
    "##### Colocando \"local[*]\" en la opción master y \"Ejercicio_3\" en el appName"
   ]
  },
  {
   "cell_type": "code",
   "execution_count": null,
   "id": "c61388b1-f759-496d-a241-371c580002ab",
   "metadata": {},
   "outputs": [],
   "source": [
    "// TU CODIGO VA EN ESTA CELDA:\n",
    "\n",
    "val spark = //...llenar\n",
    "val sc = //... llenar"
   ]
  },
  {
   "cell_type": "code",
   "execution_count": null,
   "id": "569c09b2-9518-498e-8cce-d09459425304",
   "metadata": {},
   "outputs": [],
   "source": [
    "sc.uiWebUrl"
   ]
  },
  {
   "cell_type": "code",
   "execution_count": null,
   "id": "b899cf83-7ee1-4cbb-8a55-27fdf78d2f2a",
   "metadata": {},
   "outputs": [],
   "source": [
    "// NO MODIFICAR C*ONTENIDO DE ESTA CELDA\n",
    "\n",
    "assert(spark.isInstanceOf[SparkSession])\n",
    "assert(sc.getConf.get(\"spark.master\") == \"local[*]\")\n",
    "assert(sc.getConf.get(\"spark.app.name\") == \"ejercicio_3\")\n",
    "assert(sc.isInstanceOf[SparkContext])"
   ]
  },
  {
   "cell_type": "markdown",
   "id": "8388701b-4c36-48cd-854e-67b3af2f30e3",
   "metadata": {},
   "source": [
    "#### Actividad 2:\n",
    "##### TO DO: Leer el archivo de texto: \"../../resources/data/txt/green_eggs_and_ham.txt\" utilizando el sparkContext para cargar un RDD[str]"
   ]
  },
  {
   "cell_type": "code",
   "execution_count": null,
   "id": "bfa6b8f5-8e76-484b-8291-6a64bf7a5448",
   "metadata": {},
   "outputs": [],
   "source": [
    "// TU CODIGO VA EN ESTA CELDA:\n",
    "\n",
    "val data: RDD[String] = //... reemplazar por lectura de archivo con sc"
   ]
  },
  {
   "cell_type": "code",
   "execution_count": null,
   "id": "879865f3-adc2-4d53-ac3f-e2c72c19fbfa",
   "metadata": {},
   "outputs": [],
   "source": [
    "// NO MODIFICAR CONTENIDO DE ESTA CELDA\n",
    "assert(data.isInstanceOf[RDD[String]])\n",
    "assert(data.count() == 103)"
   ]
  },
  {
   "cell_type": "markdown",
   "id": "3013873e-3449-4967-8fae-242ef6247212",
   "metadata": {},
   "source": [
    "#### Actividad 3:\n",
    "##### TO DO: Crear un RDD que contenga el conteo de cada palabra contenida en el documento leido anteriormente.\n",
    "##### El resultado tendrá que ser un RDD de tuplas con la siguiente estructura (word, count), donde la primer posición deberá ser la palabra y la segunda posicion el total de veces que aparece esa palabra en el RDD leido \n",
    "##### NOTA: Limpiar el contenido de data ya que existen espacios dobles y convertir todo el contenido en MAYUSCULAS\n",
    "Ejemplo:\n",
    "\n",
    "Archivo de entrada:\n",
    "\n",
    "HOLA  MUNDO HOLA  \n",
    "feliZ Mundo  \n",
    "FELIZ MUNDO ADIOS\n",
    "\n",
    "Salida:\n",
    "\n",
    "(MUNDO, 3)  \n",
    "(HOLA, 2)  \n",
    "(FELIZ, 2)  \n",
    "(ADIOS, 1)\n",
    "\n"
   ]
  },
  {
   "cell_type": "code",
   "execution_count": null,
   "id": "29788924-a28f-44d2-a875-f6de87fae89c",
   "metadata": {},
   "outputs": [],
   "source": [
    "// TU CODIGO VA EN ESTA CELDA:\n",
    "\n",
    "result: RDD = //... reemplazar por transformaciones"
   ]
  },
  {
   "cell_type": "code",
   "execution_count": null,
   "id": "016a94dc-7df0-41ab-a667-8890c85b9fed",
   "metadata": {
    "scrolled": true
   },
   "outputs": [],
   "source": [
    "// NO MODIFICAR CONTENIDO DE ESTA CELDA\n",
    "assert(result.count() == 52)\n",
    "\n",
    "val orderedResultRdd = result.sortBy(item => item._2, ascending=false, numPartitions=1).take(5).toSeq\n",
    "val expected = Seq((\"I\", 83), (\"NOT\", 82), (\"THEM\", 58), (\"A\", 56), (\"LIKE\", 44))\n",
    "assert(orderedResultRdd == expected)\n",
    "\n",
    "val samValues = result.filter(item => item._1 == \"SAM\").take(1)\n",
    "assert(samValues(0)._2 == 19)\n",
    "result.collect().foreach(println)"
   ]
  },
  {
   "cell_type": "code",
   "execution_count": null,
   "id": "b6e88b32-455c-4ba4-9386-5971661a448f",
   "metadata": {},
   "outputs": [],
   "source": []
  }
 ],
 "metadata": {
  "kernelspec": {
   "display_name": "Apache Toree - Scala",
   "language": "scala",
   "name": "apache_toree_scala"
  },
  "language_info": {
   "codemirror_mode": "text/x-scala",
   "file_extension": ".scala",
   "mimetype": "text/x-scala",
   "name": "scala",
   "pygments_lexer": "scala",
   "version": "2.12.15"
  }
 },
 "nbformat": 4,
 "nbformat_minor": 5
}
