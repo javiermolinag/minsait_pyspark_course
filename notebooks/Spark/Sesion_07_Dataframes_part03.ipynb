{
 "cells": [
  {
   "cell_type": "markdown",
   "id": "13beccdc-323e-4bb3-b80a-f48d3447aabf",
   "metadata": {},
   "source": [
    "- #### Transformaciones\n",
    "    - ##### sort/orderBy\n",
    "    - ##### dropDuplicates\n",
    "    - ##### distinct\n",
    "    - ##### groupBy\n",
    "    - ##### union/unionAll\n",
    "    - ##### unionByName"
   ]
  },
  {
   "cell_type": "code",
   "execution_count": 2,
   "id": "43770df0-6ba9-477f-9438-d27658409647",
   "metadata": {},
   "outputs": [],
   "source": [
    "from pyspark.sql import SparkSession\n",
    "\n",
    "spark = SparkSession.builder \\\n",
    "        .appName(\"sesion_1\") \\\n",
    "        .master(\"local[*]\") \\\n",
    "        .getOrCreate()"
   ]
  },
  {
   "cell_type": "code",
   "execution_count": 3,
   "id": "13b0fa8b-cf0f-475a-9b96-a735aba71861",
   "metadata": {},
   "outputs": [
    {
     "name": "stdout",
     "output_type": "stream",
     "text": [
      "+-----------+------------+-----------+----+------------+-------+------------+--------+--------------+------+\n",
      "|cod_titular|fec_alta_ini|actual_date|diff|fec_alta_fin|cod_iuc|cod_producto| calidad|prioridad_alta|activo|\n",
      "+-----------+------------+-----------+----+------------+-------+------------+--------+--------------+------+\n",
      "|      00006|  2012-05-01| 2023-08-15|   8|  2012-05-09|  30000|         100|    baja|          null|  true|\n",
      "|      00006|  2014-05-01| 2023-08-15|   5|  2014-05-06|  30001|         200|    baja|          null|  true|\n",
      "|      00006|  2006-02-01| 2023-08-15|   1|  2006-02-02|  30002|         300|    baja|          null|  null|\n",
      "|      00006|  2012-05-01| 2023-08-15|   3|  2012-05-04|  30003|         150|    baja|          null|  true|\n",
      "|      00005|  2012-05-01| 2023-08-15|   7|  2012-05-08|  30002|         300|    baja|          null|  true|\n",
      "|      00006|  2012-05-01| 2023-08-15|   3|  2012-05-04|  30004|         400|   media|          null|  null|\n",
      "|      00006|  2012-05-01| 2023-08-15|   2|  2012-05-03|  30005|         500|   media|          null|  true|\n",
      "|      00006|  2012-05-01| 2023-08-15|   6|  2012-05-07|  30006|         600|   media|          null|  null|\n",
      "|      00003|  2019-10-14| 2023-08-15|   7|  2019-10-21|  30003|         150|    baja|          null|  true|\n",
      "|      00006|  2014-02-01| 2023-08-15|   0|  2014-02-01|  30007|         700|    alta|          null|  null|\n",
      "|      00006|  2012-05-01| 2023-08-15|   2|  2012-05-03|  30008|         800|    alta|            ok|  true|\n",
      "|      00006|  2015-09-01| 2023-08-15|   6|  2015-09-07|  30009|         900|    alta|            ok|  true|\n",
      "|      00002|  2009-10-01| 2023-08-15|   4|  2009-10-05|  30009|         900|    alta|            ok|  true|\n",
      "|      00006|  2014-02-01| 2023-08-15|   5|  2014-02-06|  30010|        1000|    alta|            ok|  true|\n",
      "|      00002|  2018-09-18| 2023-08-15|   4|  2018-09-22|  30003|         150|    baja|          null|  true|\n",
      "|      00003|  2018-10-01| 2023-08-15|   3|  2018-10-04|  30011|        1100|muy alta|            ok|  true|\n",
      "|      00006|  2012-05-01| 2023-08-15|   1|  2012-05-02|  30007|         700|    alta|            ok|  true|\n",
      "|      00002|  2015-05-15| 2023-08-15|   5|  2015-05-20|  30007|         700|    alta|            ok|  true|\n",
      "|      00007|  2001-04-11| 2023-08-15|   6|  2001-04-17|  30002|         300|    baja|          null|  null|\n",
      "|      00004|  2017-12-01| 2023-08-15|   2|  2017-12-03|  30001|         200|    baja|          null|  true|\n",
      "+-----------+------------+-----------+----+------------+-------+------------+--------+--------------+------+\n",
      "only showing top 20 rows\n",
      "\n",
      "root\n",
      " |-- cod_titular: string (nullable = true)\n",
      " |-- fec_alta_ini: date (nullable = true)\n",
      " |-- actual_date: date (nullable = true)\n",
      " |-- diff: integer (nullable = true)\n",
      " |-- fec_alta_fin: date (nullable = true)\n",
      " |-- cod_iuc: string (nullable = true)\n",
      " |-- cod_producto: string (nullable = true)\n",
      " |-- calidad: string (nullable = true)\n",
      " |-- prioridad_alta: string (nullable = true)\n",
      " |-- activo: boolean (nullable = true)\n",
      "\n"
     ]
    }
   ],
   "source": [
    "\n",
    "base_path = \"../resources/data/parquet/\"\n",
    "contracts_df = spark.read.parquet(base_path + \"contracts_tmp\")\n",
    "\n",
    "contracts_df.show()\n",
    "contracts_df.printSchema()"
   ]
  },
  {
   "cell_type": "code",
   "execution_count": 10,
   "id": "b6b93a85-c1f7-4e14-917c-1810848dc6a7",
   "metadata": {},
   "outputs": [
    {
     "name": "stdout",
     "output_type": "stream",
     "text": [
      "+-----------+------------+-----------+----+------------+-------+------------+--------+--------------+------+\n",
      "|cod_titular|fec_alta_ini|actual_date|diff|fec_alta_fin|cod_iuc|cod_producto| calidad|prioridad_alta|activo|\n",
      "+-----------+------------+-----------+----+------------+-------+------------+--------+--------------+------+\n",
      "|      00003|  2018-10-01| 2023-08-15|   3|  2018-10-04|  30011|        1100|muy alta|            ok|  true|\n",
      "|      00007|  2014-08-01| 2023-08-15|   7|  2014-08-08|  30010|        1000|    alta|          null|  null|\n",
      "|      00006|  2014-02-01| 2023-08-15|   5|  2014-02-06|  30010|        1000|    alta|            ok|  true|\n",
      "|      00006|  2015-09-01| 2023-08-15|   6|  2015-09-07|  30009|         900|    alta|            ok|  true|\n",
      "|      00002|  2009-10-01| 2023-08-15|   4|  2009-10-05|  30009|         900|    alta|            ok|  true|\n",
      "|      00002|  2014-03-21| 2023-08-15|   8|  2014-03-29|  30008|         800|    alta|            ok|  true|\n",
      "|      00006|  2012-05-01| 2023-08-15|   2|  2012-05-03|  30008|         800|    alta|            ok|  true|\n",
      "|      00007|  2004-09-01| 2023-08-15|   9|  2004-09-10|  30008|         800|    alta|            ok|  true|\n",
      "|      00002|  2020-04-01| 2023-08-15|   2|  2020-04-03|  30007|         600|   media|          null|  true|\n",
      "|      00001|  2016-07-01| 2023-08-15|   2|  2016-07-03|  30007|         700|    alta|            ok|  true|\n",
      "|      00002|  2015-05-15| 2023-08-15|   5|  2015-05-20|  30007|         700|    alta|            ok|  true|\n",
      "|      00006|  2014-02-01| 2023-08-15|   0|  2014-02-01|  30007|         700|    alta|          null|  null|\n",
      "|      00006|  2012-05-01| 2023-08-15|   1|  2012-05-02|  30007|         700|    alta|            ok|  true|\n",
      "|      00005|  2016-12-10| 2023-08-15|   0|  2016-12-10|  30006|         600|   media|          null|  true|\n",
      "|      00006|  2012-05-01| 2023-08-15|   6|  2012-05-07|  30006|         600|   media|          null|  null|\n",
      "|      00006|  2012-05-01| 2023-08-15|   2|  2012-05-03|  30005|         500|   media|          null|  true|\n",
      "|      00001|  2007-03-22| 2023-08-15|   9|  2007-03-31|  30005|         500|   media|          null|  true|\n",
      "|      00006|  2012-05-01| 2023-08-15|   3|  2012-05-04|  30004|         400|   media|          null|  null|\n",
      "|      00002|  2008-02-01| 2023-08-15|   9|  2008-02-10|  30004|         400|   media|          null|  null|\n",
      "|      00004|  2020-03-01| 2023-08-15|   7|  2020-03-08|  30003|         150|    baja|          null|  true|\n",
      "+-----------+------------+-----------+----+------------+-------+------------+--------+--------------+------+\n",
      "only showing top 20 rows\n",
      "\n"
     ]
    }
   ],
   "source": [
    "# sort/orderBy\n",
    "\n",
    "import pyspark.sql.functions as f\n",
    "\n",
    "contracts_df.orderBy(f.col(\"cod_iuc\").desc(), f.col(\"fec_alta_fin\").desc()).show()"
   ]
  },
  {
   "cell_type": "code",
   "execution_count": 23,
   "id": "f65370ab-774b-4672-96a7-2ab982bcc537",
   "metadata": {},
   "outputs": [],
   "source": [
    "# dropDuplicates distinct\n",
    "\n",
    "#contracts_df.dropDuplicates([\"cod_iuc\", \"cod_producto\"]).show()\n",
    "\n",
    "#contracts_df.distinct().show()"
   ]
  },
  {
   "cell_type": "code",
   "execution_count": 37,
   "id": "70d0543a-4984-4873-ae29-8cbf258a4e99",
   "metadata": {},
   "outputs": [
    {
     "name": "stdout",
     "output_type": "stream",
     "text": [
      "+-------+------+-----+--------+--------+--------+-----------------+-----------------+----------------+\n",
      "|cod_iuc|activo|count|sum_diff|max_diff|min_diff|        mean_diff|         avg_diff|max_fec_alta_ini|\n",
      "+-------+------+-----+--------+--------+--------+-----------------+-----------------+----------------+\n",
      "|  30002|  null|    2|       7|       6|       1|              3.5|              3.5|      2006-02-01|\n",
      "|  30006|  null|    1|       6|       6|       6|              6.0|              6.0|      2012-05-01|\n",
      "|  30001|  true|    3|      16|       9|       2|5.333333333333333|5.333333333333333|      2019-11-10|\n",
      "|  30003|  true|    5|      23|       7|       2|              4.6|              4.6|      2020-03-01|\n",
      "|  30002|  true|    1|       7|       7|       7|              7.0|              7.0|      2012-05-01|\n",
      "|  30000|  true|    2|      13|       8|       5|              6.5|              6.5|      2015-05-25|\n",
      "|  30007|  null|    1|       0|       0|       0|              0.0|              0.0|      2014-02-01|\n",
      "|  30004|  null|    2|      12|       9|       3|              6.0|              6.0|      2012-05-01|\n",
      "|  30008|  true|    3|      19|       9|       2|6.333333333333333|6.333333333333333|      2014-03-21|\n",
      "|  30011|  true|    1|       3|       3|       3|              3.0|              3.0|      2018-10-01|\n",
      "|  30010|  true|    1|       5|       5|       5|              5.0|              5.0|      2014-02-01|\n",
      "|  30005|  true|    2|      11|       9|       2|              5.5|              5.5|      2012-05-01|\n",
      "|  30006|  true|    1|       0|       0|       0|              0.0|              0.0|      2016-12-10|\n",
      "|  30007|  true|    4|      10|       5|       1|              2.5|              2.5|      2020-04-01|\n",
      "|  30010|  null|    1|       7|       7|       7|              7.0|              7.0|      2014-08-01|\n",
      "|  30009|  true|    2|      10|       6|       4|              5.0|              5.0|      2015-09-01|\n",
      "+-------+------+-----+--------+--------+--------+-----------------+-----------------+----------------+\n",
      "\n"
     ]
    }
   ],
   "source": [
    "# groupBy -> count, max, min, avg, mean, sum\n",
    "\n",
    "#contracts_df.groupBy(\"cod_iuc\").count().show()\n",
    "#contracts_df.groupBy(f.col(\"cod_iuc\")).sum(\"diff\").show()\n",
    "#contracts_df.groupBy(f.col(\"cod_iuc\")).max(\"fec_alta_ini\").show()\n",
    "\n",
    "contracts_df.groupBy(f.col(\"cod_iuc\"), f.col(\"activo\"))\\\n",
    "    .agg(\n",
    "        f.count(\"*\").alias(\"count\"),\n",
    "        f.sum(\"diff\").alias(\"sum_diff\"),\n",
    "        f.max(\"diff\").alias(\"max_diff\"),\n",
    "        f.min(\"diff\").alias(\"min_diff\"),\n",
    "        f.mean(\"diff\").alias(\"mean_diff\"),\n",
    "        f.avg(\"diff\").alias(\"avg_diff\"),\n",
    "        f.max(\"fec_alta_ini\").alias(\"max_fec_alta_ini\")\n",
    "    ).show()\n"
   ]
  },
  {
   "cell_type": "code",
   "execution_count": 43,
   "id": "85753db0-d5f5-42f0-ab6d-7503067a404a",
   "metadata": {},
   "outputs": [
    {
     "name": "stdout",
     "output_type": "stream",
     "text": [
      "+-------+-------------+----------------------+--------------+-------------+----------------------+-----------------+\n",
      "|cod_iuc|null_count(1)|null_max(fec_alta_fin)|null_avg(diff)|true_count(1)|true_max(fec_alta_fin)|   true_avg(diff)|\n",
      "+-------+-------------+----------------------+--------------+-------------+----------------------+-----------------+\n",
      "|  30002|            2|            2006-02-02|           3.5|            1|            2012-05-08|              7.0|\n",
      "|  30005|            0|                  null|          null|            2|            2012-05-03|              5.5|\n",
      "|  30006|            1|            2012-05-07|           6.0|            1|            2016-12-10|              0.0|\n",
      "|  30009|            0|                  null|          null|            2|            2015-09-07|              5.0|\n",
      "|  30008|            0|                  null|          null|            3|            2014-03-29|6.333333333333333|\n",
      "|  30007|            1|            2014-02-01|           0.0|            4|            2020-04-03|              2.5|\n",
      "|  30004|            2|            2012-05-04|           6.0|            0|                  null|             null|\n",
      "|  30003|            0|                  null|          null|            5|            2020-03-08|              4.6|\n",
      "|  30000|            0|                  null|          null|            2|            2015-05-30|              6.5|\n",
      "|  30011|            0|                  null|          null|            1|            2018-10-04|              3.0|\n",
      "|  30001|            0|                  null|          null|            3|            2019-11-19|5.333333333333333|\n",
      "|  30010|            1|            2014-08-08|           7.0|            1|            2014-02-06|              5.0|\n",
      "+-------+-------------+----------------------+--------------+-------------+----------------------+-----------------+\n",
      "\n"
     ]
    }
   ],
   "source": [
    "contracts_df\\\n",
    "    .groupBy(\"cod_iuc\") \\\n",
    "    .pivot(\"activo\") \\\n",
    "    .agg(\n",
    "        f.count(\"*\"),\n",
    "        f.max(\"fec_alta_fin\"),\n",
    "        f.avg(\"diff\")\n",
    "    ) \\\n",
    "    .show()"
   ]
  },
  {
   "cell_type": "code",
   "execution_count": 55,
   "id": "cce4dd4a-59d0-4dbd-ba98-84801d2a45b1",
   "metadata": {},
   "outputs": [
    {
     "name": "stdout",
     "output_type": "stream",
     "text": [
      "+-----------+------------+-----------+----+------------+-------+------------+-------+--------------+------+\n",
      "|cod_titular|fec_alta_ini|actual_date|diff|fec_alta_fin|cod_iuc|cod_producto|calidad|prioridad_alta|activo|\n",
      "+-----------+------------+-----------+----+------------+-------+------------+-------+--------------+------+\n",
      "|      00006|  2006-02-01| 2023-08-15|   1|  2006-02-02|  30002|         300|   baja|          null|  null|\n",
      "|      00006|  2012-05-01| 2023-08-15|   3|  2012-05-04|  30004|         400|  media|          null|  null|\n",
      "|      00006|  2012-05-01| 2023-08-15|   6|  2012-05-07|  30006|         600|  media|          null|  null|\n",
      "|      00006|  2014-02-01| 2023-08-15|   0|  2014-02-01|  30007|         700|   alta|          null|  null|\n",
      "|      00007|  2001-04-11| 2023-08-15|   6|  2001-04-17|  30002|         300|   baja|          null|  null|\n",
      "|      00002|  2008-02-01| 2023-08-15|   9|  2008-02-10|  30004|         400|  media|          null|  null|\n",
      "|      00007|  2014-08-01| 2023-08-15|   7|  2014-08-08|  30010|        1000|   alta|          null|  null|\n",
      "+-----------+------------+-----------+----+------------+-------+------------+-------+--------------+------+\n",
      "\n",
      "+-----------+------------+-----------+\n",
      "|cod_titular|fec_alta_ini|actual_date|\n",
      "+-----------+------------+-----------+\n",
      "|      00006|  2006-02-01| 2023-08-15|\n",
      "|      00006|  2012-05-01| 2023-08-15|\n",
      "|      00006|  2012-05-01| 2023-08-15|\n",
      "|      00006|  2014-02-01| 2023-08-15|\n",
      "|      00007|  2001-04-11| 2023-08-15|\n",
      "|      00002|  2008-02-01| 2023-08-15|\n",
      "|      00007|  2014-08-01| 2023-08-15|\n",
      "|      00006|  2006-02-01| 2023-08-15|\n",
      "|      00006|  2012-05-01| 2023-08-15|\n",
      "|      00006|  2012-05-01| 2023-08-15|\n",
      "|      00006|  2014-02-01| 2023-08-15|\n",
      "|      00007|  2001-04-11| 2023-08-15|\n",
      "|      00002|  2008-02-01| 2023-08-15|\n",
      "|      00007|  2014-08-01| 2023-08-15|\n",
      "+-----------+------------+-----------+\n",
      "\n",
      "+-----------+------------+-----------+\n",
      "|cod_titular|fec_alta_ini|actual_date|\n",
      "+-----------+------------+-----------+\n",
      "|      00006|  2006-02-01| 2023-08-15|\n",
      "|      00006|  2012-05-01| 2023-08-15|\n",
      "|      00006|  2012-05-01| 2023-08-15|\n",
      "|      00006|  2014-02-01| 2023-08-15|\n",
      "|      00007|  2001-04-11| 2023-08-15|\n",
      "|      00002|  2008-02-01| 2023-08-15|\n",
      "|      00007|  2014-08-01| 2023-08-15|\n",
      "|      00006|  2006-02-01| 2023-08-15|\n",
      "|      00006|  2012-05-01| 2023-08-15|\n",
      "|      00006|  2012-05-01| 2023-08-15|\n",
      "|      00006|  2014-02-01| 2023-08-15|\n",
      "|      00007|  2001-04-11| 2023-08-15|\n",
      "|      00002|  2008-02-01| 2023-08-15|\n",
      "|      00007|  2014-08-01| 2023-08-15|\n",
      "+-----------+------------+-----------+\n",
      "\n"
     ]
    }
   ],
   "source": [
    "## union/unionAll unionByName\n",
    "contracts_tmp_df = contracts_df.filter(f.col(\"activo\").isNull())\n",
    "\n",
    "contracts_tmp_df.show()\n",
    "\n",
    "contracts_tmp_df.select(\"cod_titular\",\"fec_alta_ini\",\"actual_date\")\\\n",
    "    .union(contracts_tmp_df.select(\"cod_titular\",\"fec_alta_ini\",\"actual_date\")).show()\n",
    "\n",
    "contracts_tmp_df.select(\"cod_titular\",\"fec_alta_ini\",\"actual_date\")\\\n",
    "    .unionByName(contracts_tmp_df.select(\"actual_date\",\"cod_titular\",\"fec_alta_ini\")).show()"
   ]
  },
  {
   "cell_type": "code",
   "execution_count": null,
   "id": "15c0ad3d-d796-472e-bb63-85c6998c0dd0",
   "metadata": {},
   "outputs": [],
   "source": []
  }
 ],
 "metadata": {
  "kernelspec": {
   "display_name": "Python 3 (ipykernel)",
   "language": "python",
   "name": "python3"
  },
  "language_info": {
   "codemirror_mode": {
    "name": "ipython",
    "version": 3
   },
   "file_extension": ".py",
   "mimetype": "text/x-python",
   "name": "python",
   "nbconvert_exporter": "python",
   "pygments_lexer": "ipython3",
   "version": "3.9.13"
  }
 },
 "nbformat": 4,
 "nbformat_minor": 5
}
