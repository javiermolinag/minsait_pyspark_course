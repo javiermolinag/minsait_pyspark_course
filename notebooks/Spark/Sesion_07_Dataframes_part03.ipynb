{
 "cells": [
  {
   "cell_type": "markdown",
   "id": "13beccdc-323e-4bb3-b80a-f48d3447aabf",
   "metadata": {},
   "source": [
    "- #### Transformaciones\n",
    "    - ##### sort/orderBy\n",
    "    - ##### dropDuplicates\n",
    "    - ##### distinct\n",
    "    - ##### groupBy\n",
    "    - ##### union/unionAll\n",
    "    - ##### unionByName"
   ]
  },
  {
   "cell_type": "code",
   "execution_count": null,
   "id": "43770df0-6ba9-477f-9438-d27658409647",
   "metadata": {},
   "outputs": [],
   "source": [
    "import org.apache.spark.sql.SparkSession\n",
    "\n",
    "val spark = SparkSession.builder\n",
    "        .appName(\"sesion_1\")\n",
    "        .master(\"local[*]\")\n",
    "        .getOrCreate()\n",
    "val sc = spark.sparkContext"
   ]
  },
  {
   "cell_type": "code",
   "execution_count": null,
   "id": "919bfbb5-d00f-4969-b003-669b5123d51e",
   "metadata": {},
   "outputs": [],
   "source": [
    "sc.uiWebUrl"
   ]
  },
  {
   "cell_type": "code",
   "execution_count": null,
   "id": "13b0fa8b-cf0f-475a-9b96-a735aba71861",
   "metadata": {},
   "outputs": [],
   "source": [
    "val BasePath = \"../../resources/data/parquet/\"\n",
    "val contractsDf = spark.read.parquet(BasePath + \"contracts_tmp\")\n",
    "\n",
    "contractsDf.show()\n",
    "contractsDf.printSchema()"
   ]
  },
  {
   "cell_type": "code",
   "execution_count": null,
   "id": "b6b93a85-c1f7-4e14-917c-1810848dc6a7",
   "metadata": {},
   "outputs": [],
   "source": [
    "// sort/orderBy\n",
    "\n",
    "import org.apache.spark.sql.{functions => f}\n",
    "\n",
    "contractsDf.orderBy(f.col(\"cod_iuc\").desc, f.col(\"fec_alta_fin\").desc).show()"
   ]
  },
  {
   "cell_type": "code",
   "execution_count": null,
   "id": "f65370ab-774b-4672-96a7-2ab982bcc537",
   "metadata": {},
   "outputs": [],
   "source": [
    "// dropDuplicates distinct\n",
    "\n",
    "contractsDf.dropDuplicates(Seq(\"cod_iuc\", \"cod_producto\")).show()\n",
    "\n",
    "contractsDf.distinct().show()"
   ]
  },
  {
   "cell_type": "code",
   "execution_count": null,
   "id": "70d0543a-4984-4873-ae29-8cbf258a4e99",
   "metadata": {},
   "outputs": [],
   "source": [
    "// groupBy -> count, max, min, avg, mean, sum\n",
    "\n",
    "//contractsDf.groupBy(\"cod_iuc\").count().show()\n",
    "//contractsDf.groupBy(f.col(\"cod_iuc\")).sum(\"diff\").show()\n",
    "//contractsDf.groupBy(f.col(\"cod_iuc\")).max(\"fec_alta_ini\").show()\n",
    "\n",
    "contractsDf.groupBy(f.col(\"cod_iuc\"), f.col(\"activo\"))\n",
    "    .agg(\n",
    "        f.count(\"*\").alias(\"count\"),\n",
    "        f.sum(\"diff\").alias(\"sum_diff\"),\n",
    "        f.max(\"diff\").alias(\"max_diff\"),\n",
    "        f.min(\"diff\").alias(\"min_diff\"),\n",
    "        f.mean(\"diff\").alias(\"mean_diff\"),\n",
    "        f.avg(\"diff\").alias(\"avg_diff\"),\n",
    "        f.max(\"fec_alta_ini\").alias(\"max_fec_alta_ini\")\n",
    "    ).show()"
   ]
  },
  {
   "cell_type": "code",
   "execution_count": null,
   "id": "85753db0-d5f5-42f0-ab6d-7503067a404a",
   "metadata": {},
   "outputs": [],
   "source": [
    "contractsDf\n",
    "    .groupBy(\"cod_iuc\")\n",
    "    .pivot(\"activo\")\n",
    "    .agg(\n",
    "        f.count(\"*\"),\n",
    "        f.max(\"fec_alta_fin\"),\n",
    "        f.avg(\"diff\")\n",
    "    )\n",
    "    .show()"
   ]
  },
  {
   "cell_type": "code",
   "execution_count": null,
   "id": "cce4dd4a-59d0-4dbd-ba98-84801d2a45b1",
   "metadata": {},
   "outputs": [],
   "source": [
    "// union/unionAll unionByName\n",
    "val contractsTmpDf = contractsDf.filter(f.col(\"activo\").isNull)\n",
    "\n",
    "contractsTmpDf.show()\n",
    "\n",
    "contractsTmpDf.select(\"cod_titular\",\"fec_alta_ini\",\"actual_date\")\n",
    "    .union(contractsTmpDf.select(\"cod_titular\",\"fec_alta_ini\",\"actual_date\")).show()\n",
    "\n",
    "contractsTmpDf.select(\"cod_titular\",\"fec_alta_ini\",\"actual_date\")\n",
    "    .unionByName(contractsTmpDf.select(\"actual_date\",\"cod_titular\",\"fec_alta_ini\")).show()"
   ]
  },
  {
   "cell_type": "code",
   "execution_count": null,
   "id": "15c0ad3d-d796-472e-bb63-85c6998c0dd0",
   "metadata": {},
   "outputs": [],
   "source": []
  }
 ],
 "metadata": {
  "kernelspec": {
   "display_name": "Apache Toree - Scala",
   "language": "scala",
   "name": "apache_toree_scala"
  },
  "language_info": {
   "codemirror_mode": "text/x-scala",
   "file_extension": ".scala",
   "mimetype": "text/x-scala",
   "name": "scala",
   "pygments_lexer": "scala",
   "version": "2.12.15"
  }
 },
 "nbformat": 4,
 "nbformat_minor": 5
}
