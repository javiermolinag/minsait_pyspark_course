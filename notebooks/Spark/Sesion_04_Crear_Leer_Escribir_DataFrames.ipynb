{
 "cells": [
  {
   "cell_type": "markdown",
   "id": "310df0be-54f1-4ae6-a179-67e407d8a1ad",
   "metadata": {},
   "source": [
    "- #### SparSession\n",
    "- #### Leer Dataframe\n",
    "- #### Esquema de un Dataframe\n",
    "- #### Crear Dataframe\n",
    "- #### Escribir Dataframe"
   ]
  },
  {
   "cell_type": "markdown",
   "id": "696bd9c1-3daf-4cb7-891a-e14f2ed8a6a8",
   "metadata": {},
   "source": [
    "## Hands on"
   ]
  },
  {
   "cell_type": "code",
   "execution_count": null,
   "id": "aada02ed-6ee5-4c80-a4f9-9e980d298398",
   "metadata": {},
   "outputs": [],
   "source": [
    "import org.apache.spark.sql.{SparkSession, Row, DataFrame}\n",
    "import org.apache.spark.sql.types._"
   ]
  },
  {
   "cell_type": "markdown",
   "id": "5f52074d-797e-4418-a715-57e9072f94d3",
   "metadata": {},
   "source": [
    "### SparkSession"
   ]
  },
  {
   "cell_type": "code",
   "execution_count": null,
   "id": "26e4f019-9285-465f-a7a0-b287ad778ea7",
   "metadata": {},
   "outputs": [],
   "source": [
    "val spark = SparkSession.builder().appName(\"sesion_1\").master(\"local[*]\").getOrCreate()\n",
    "val sc = spark.sparkContext"
   ]
  },
  {
   "cell_type": "code",
   "execution_count": null,
   "id": "412d24e9-03ae-4425-a225-76d956753a16",
   "metadata": {},
   "outputs": [],
   "source": [
    "sc.uiWebUrl"
   ]
  },
  {
   "cell_type": "markdown",
   "id": "046bb0a3-fe80-487e-8a40-9af923b8e0e7",
   "metadata": {},
   "source": [
    "### Read DataFrame"
   ]
  },
  {
   "cell_type": "code",
   "execution_count": null,
   "id": "bf402d48-429e-4dd7-95dc-79dcf88b169f",
   "metadata": {},
   "outputs": [],
   "source": [
    "def readCsv(path: String): DataFrame = {\n",
    "    spark.read\n",
    "        .option(\"header\",\"true\")\n",
    "        .option(\"delimiter\",\",\")\n",
    "        .option(\"inferSchema\",\"false\")\n",
    "        .csv(path)\n",
    "    }\n",
    "\n",
    "def readParquet(path: String): DataFrame = {\n",
    "    spark.read.parquet(path)\n",
    "    }\n",
    "\n",
    "val BasePath: String = \"../../resources/data/csv/\"\n",
    "val clientsDf: DataFrame = readCsv(BasePath + \"clients.csv\")\n",
    "val contractsDf: DataFrame = readCsv(BasePath + \"contracts.csv\")\n",
    "val productsDf: DataFrame = readCsv(BasePath + \"products.csv\")\n",
    "\n",
    "clientsDf.show()\n",
    "contractsDf.show()\n",
    "productsDf.show()"
   ]
  },
  {
   "cell_type": "code",
   "execution_count": null,
   "id": "1b57aac4-0e63-4d3a-8270-20bce1520794",
   "metadata": {},
   "outputs": [],
   "source": [
    "clientsDf.printSchema()"
   ]
  },
  {
   "cell_type": "code",
   "execution_count": null,
   "id": "362e0dc7-2961-4c94-b060-b8a96ad27240",
   "metadata": {},
   "outputs": [],
   "source": [
    "clientsDf.columns"
   ]
  },
  {
   "cell_type": "markdown",
   "id": "ea351534-8199-4be5-8812-d1f9cb34f94b",
   "metadata": {},
   "source": [
    "### Create Dataframe"
   ]
  },
  {
   "cell_type": "code",
   "execution_count": null,
   "id": "1c796ef7-9e33-417c-b709-74dc2c75f727",
   "metadata": {},
   "outputs": [],
   "source": [
    "val data = Seq(\n",
    "    Row(\"00001\", Seq(\"2020-01-01\", \"2022-01-01\")),\n",
    "    Row(\"00002\", Seq(\"2022-01-01\", \"2023-01-01\", \"2010-01-01\"))\n",
    "    )\n",
    "\n",
    "val schema = StructType(Seq(\n",
    "    StructField(\"cod_client\", StringType),\n",
    "    StructField(\"fecha_pago\", ArrayType(StringType))\n",
    "    ))\n",
    "\n",
    "val pagosDf = spark.createDataFrame(sc.parallelize(data), schema)\n",
    "\n",
    "pagosDf.show(2, false)\n",
    "pagosDf.printSchema()"
   ]
  },
  {
   "cell_type": "markdown",
   "id": "a48e7b37-47b9-4145-b558-79d858d067fb",
   "metadata": {},
   "source": [
    "### Write Dataframe"
   ]
  },
  {
   "cell_type": "code",
   "execution_count": null,
   "id": "8230e7ba-ec6a-4b68-9ac2-82dbbb3fc4e6",
   "metadata": {},
   "outputs": [],
   "source": [
    "val basePathParquet = \"../../resources/data/parquet/\"\n",
    "clientsDf.write.mode(\"overwrite\").parquet(basePathParquet + \"clients\")"
   ]
  },
  {
   "cell_type": "code",
   "execution_count": null,
   "id": "3e3fcdb6-2bf7-46bb-8090-8004038c9c70",
   "metadata": {},
   "outputs": [],
   "source": []
  }
 ],
 "metadata": {
  "kernelspec": {
   "display_name": "Apache Toree - Scala",
   "language": "scala",
   "name": "apache_toree_scala"
  },
  "language_info": {
   "codemirror_mode": "text/x-scala",
   "file_extension": ".scala",
   "mimetype": "text/x-scala",
   "name": "scala",
   "pygments_lexer": "scala",
   "version": "2.12.15"
  }
 },
 "nbformat": 4,
 "nbformat_minor": 5
}
