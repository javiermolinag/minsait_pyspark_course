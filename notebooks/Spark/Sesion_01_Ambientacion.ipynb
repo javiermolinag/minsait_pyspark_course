{
 "cells": [
  {
   "cell_type": "code",
   "execution_count": null,
   "id": "8a5d52d7-c389-4732-b64b-b3e41065f02a",
   "metadata": {},
   "outputs": [],
   "source": [
    "import org.apache.spark.sql.SparkSession\n",
    "\n",
    "val sparkSession = SparkSession.builder()\n",
    "    .master(\"local[*]\")\n",
    "    .appName(\"session_01\")\n",
    "    .getOrCreate()"
   ]
  },
  {
   "cell_type": "code",
   "execution_count": null,
   "id": "d76bd2dc-45b7-4cae-b667-9ac369f18c71",
   "metadata": {},
   "outputs": [],
   "source": [
    "sparkSession"
   ]
  },
  {
   "cell_type": "code",
   "execution_count": null,
   "id": "764e70d3-3b5f-493d-a43e-dcfd655ef6fd",
   "metadata": {},
   "outputs": [],
   "source": [
    "sc.uiWebUrl"
   ]
  }
 ],
 "metadata": {
  "kernelspec": {
   "display_name": "Apache Toree - Scala",
   "language": "scala",
   "name": "apache_toree_scala"
  },
  "language_info": {
   "codemirror_mode": "text/x-scala",
   "file_extension": ".scala",
   "mimetype": "text/x-scala",
   "name": "scala",
   "pygments_lexer": "scala",
   "version": "2.12.15"
  }
 },
 "nbformat": 4,
 "nbformat_minor": 5
}
