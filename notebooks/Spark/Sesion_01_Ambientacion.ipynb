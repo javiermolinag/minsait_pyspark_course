{
 "cells": [
  {
   "cell_type": "code",
   "execution_count": null,
   "id": "8a5d52d7-c389-4732-b64b-b3e41065f02a",
   "metadata": {},
   "outputs": [],
   "source": [
    "import org.apache.spark.sql.SparkSession\n",
    "\n",
    "val sparkSession = SparkSession.builder()\n",
    "    .master(\"local[*]\")\n",
    "    .appName(\"session_01\")\n",
    "    .getOrCreate()"
   ]
  },
  {
   "cell_type": "code",
   "execution_count": null,
   "id": "d76bd2dc-45b7-4cae-b667-9ac369f18c71",
   "metadata": {},
   "outputs": [],
   "source": [
    "sparkSession\n",
    "// abre en el navegador http://localhost:4040/"
   ]
  },
  {
   "cell_type": "code",
   "execution_count": null,
   "id": "764e70d3-3b5f-493d-a43e-dcfd655ef6fd",
   "metadata": {},
   "outputs": [],
   "source": []
  }
 ],
 "metadata": {
  "kernelspec": {
   "display_name": "spylon-kernel",
   "language": "scala",
   "name": "spylon-kernel"
  },
  "language_info": {
   "codemirror_mode": "text/x-scala",
   "file_extension": ".scala",
   "help_links": [
    {
     "text": "MetaKernel Magics",
     "url": "https://metakernel.readthedocs.io/en/latest/source/README.html"
    }
   ],
   "mimetype": "text/x-scala",
   "name": "scala",
   "pygments_lexer": "scala",
   "version": "0.4.1"
  }
 },
 "nbformat": 4,
 "nbformat_minor": 5
}
