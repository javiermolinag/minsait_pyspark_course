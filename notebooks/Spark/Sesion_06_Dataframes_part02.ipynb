{
 "cells": [
  {
   "cell_type": "markdown",
   "id": "3c32b616-f93c-478f-821c-223802edb396",
   "metadata": {},
   "source": [
    "- #### Transformaciones\n",
    "    - ##### select - when\n",
    "    - ##### where/filter\r\n"
   ]
  },
  {
   "cell_type": "code",
   "execution_count": null,
   "id": "43770df0-6ba9-477f-9438-d27658409647",
   "metadata": {},
   "outputs": [],
   "source": [
    "import org.apache.spark.sql.{SparkSession, DataFrame, Column}\n",
    "\n",
    "val spark = SparkSession.builder\n",
    "        .appName(\"sesion_1\")\n",
    "        .master(\"local[*]\")\n",
    "        .getOrCreate()\n",
    "val sc = spark.sparkContext"
   ]
  },
  {
   "cell_type": "code",
   "execution_count": null,
   "id": "c96fc930-1c0a-4afb-971a-5b80cdc4b289",
   "metadata": {},
   "outputs": [],
   "source": [
    "sc.uiWebUrl"
   ]
  },
  {
   "cell_type": "code",
   "execution_count": null,
   "id": "13b0fa8b-cf0f-475a-9b96-a735aba71861",
   "metadata": {},
   "outputs": [],
   "source": [
    "def readCsv(path: String): DataFrame = {\n",
    "    spark.read\n",
    "        .option(\"header\",\"true\")\n",
    "        .option(\"delimiter\",\",\")\n",
    "        .option(\"inferSchema\",\"false\")\n",
    "        .csv(path)\n",
    "}\n",
    "\n",
    "val BasePath = \"../../resources/data/csv/\"\n",
    "val contractsDf = readCsv(BasePath + \"contracts.csv\")\n",
    "\n",
    "contractsDf.show()"
   ]
  },
  {
   "cell_type": "code",
   "execution_count": null,
   "id": "3e4c59c3-f540-4542-af4b-8d3389b5ea23",
   "metadata": {},
   "outputs": [],
   "source": [
    "Seq(1,2,3) :+ 4"
   ]
  },
  {
   "cell_type": "code",
   "execution_count": null,
   "id": "0760c8c9-cad3-432e-b3f7-837d8b2e2aa8",
   "metadata": {},
   "outputs": [],
   "source": [
    "import org.apache.spark.sql.{functions => f}\n",
    "import org.apache.spark.sql.{types => t}\n",
    "\n",
    "// Select\n",
    "\n",
    "def difference(l1: Seq[String], l2: Seq[String]): Seq[Column] = {\n",
    "    l1.diff(l2).map(colName => f.col(colName))\n",
    "}\n",
    "\n",
    "val resultedDf = contractsDf\n",
    "    .select(\n",
    "        difference(contractsDf.columns.toSeq, Seq(\"fec_alta\", \"activo\")) :+\n",
    "        f.col(\"activo\").cast(t.BooleanType) :+\n",
    "        f.col(\"fec_alta\").alias(\"fec_alta_ini\").cast(t.DateType) :+\n",
    "        f.current_date().alias(\"actual_date\") :+\n",
    "        f.round(f.rand(0) * f.lit(10)).cast(t.IntegerType).alias(\"randm_num\") :+\n",
    "        f.date_add(f.col(\"fec_alta_ini\"), f.col(\"randm_num\")).alias(\"fec_alta_fin\") :+\n",
    "        f.datediff(f.col(\"fec_alta_fin\"), f.col(\"fec_alta_ini\")).alias(\"diff\") :_*\n",
    "        )\n",
    "    .drop(\"randm_num\")\n",
    "\n",
    "resultedDf.show()\n",
    "resultedDf.printSchema()"
   ]
  },
  {
   "cell_type": "code",
   "execution_count": null,
   "id": "d4a8754e-8ee1-401b-b2d7-00063e6a09db",
   "metadata": {},
   "outputs": [],
   "source": [
    "// select- when\n",
    "\n",
    "val cond_1: Column = f.col(\"cod_producto\") <= 300 // baja\n",
    "val cond_2: Column = f.col(\"cod_producto\") <= 600 // media\n",
    "val cond_3: Column = f.col(\"cod_producto\") <= 1000 // alta\n",
    "\n",
    "val selectWhenDf = resultedDf\n",
    "    .select(\n",
    "        difference(resultedDf.columns.toSeq, Seq(\"activo\")) :+\n",
    "        f.when(cond_1, f.lit(\"baja\"))\n",
    "            .when(cond_2, f.lit(\"media\"))\n",
    "            .when(cond_3, f.lit(\"alta\"))\n",
    "            .otherwise(f.lit(\"muy alta\")).alias(\"calidad\") :+\n",
    "        f.when((f.col(\"activo\") === f.lit(true)) && (f.col(\"calidad\").isin(\"alta\", \"muy alta\")), f.lit(\"ok\")).alias(\"prioridad_alta\") :+\n",
    "        f.when(f.col(\"activo\") === true, f.lit(true)).alias(\"activo\") :_*\n",
    "    )\n",
    "\n",
    "selectWhenDf.show()"
   ]
  },
  {
   "cell_type": "code",
   "execution_count": null,
   "id": "c41ac942-58bc-4b82-90a6-0506349588a2",
   "metadata": {},
   "outputs": [],
   "source": [
    "// where / filter\n",
    "selectWhenDf\n",
    "    .filter(f.col(\"activo\").isNotNull)\n",
    "    .filter(!f.col(\"cod_producto\").isin(\"100\", \"200\", \"150\", \"300\"))\n",
    "    .where(f.col(\"fec_alta_ini\").between(\"2014-02-01\", \"2018-10-01\"))\n",
    "    .where((f.col(\"calidad\") === \"media\") || (f.col(\"cod_titular\").isin(\"00006\", \"00001\")))\n",
    "    .show()"
   ]
  },
  {
   "cell_type": "code",
   "execution_count": null,
   "id": "b6b93a85-c1f7-4e14-917c-1810848dc6a7",
   "metadata": {},
   "outputs": [],
   "source": [
    "selectWhenDf\n",
    "    .write.mode(\"overwrite\").parquet(\"../../resources/data/parquet/contracts_tmp\")"
   ]
  },
  {
   "cell_type": "code",
   "execution_count": null,
   "id": "7a5561ac-6fef-4c93-92dc-507334cdd822",
   "metadata": {},
   "outputs": [],
   "source": []
  }
 ],
 "metadata": {
  "kernelspec": {
   "display_name": "Apache Toree - Scala",
   "language": "scala",
   "name": "apache_toree_scala"
  },
  "language_info": {
   "codemirror_mode": "text/x-scala",
   "file_extension": ".scala",
   "mimetype": "text/x-scala",
   "name": "scala",
   "pygments_lexer": "scala",
   "version": "2.12.15"
  }
 },
 "nbformat": 4,
 "nbformat_minor": 5
}
