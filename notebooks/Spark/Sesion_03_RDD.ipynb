{
 "cells": [
  {
   "cell_type": "markdown",
   "id": "88e85f7b-7369-435d-b060-268e93d92475",
   "metadata": {},
   "source": [
    "## RDD"
   ]
  },
  {
   "cell_type": "markdown",
   "id": "bbf2900f-a72f-48ba-be8b-95a3680469ef",
   "metadata": {},
   "source": [
    "#### Transformations:\n",
    "\n",
    "https://spark.apache.org/docs/latest/rdd-programming-guide.html#transformations\n",
    "\n",
    "#### Actions\n",
    "\n",
    "https://spark.apache.org/docs/latest/rdd-programming-guide.html#actions"
   ]
  },
  {
   "cell_type": "code",
   "execution_count": null,
   "id": "1b6548b1-97a7-47d0-a08b-e5e96bb6753b",
   "metadata": {},
   "outputs": [],
   "source": [
    "import org.apache.spark.sql.SparkSession\n",
    "val spark = SparkSession.builder().appName(\"Sesion_3\").master(\"local[*]\").getOrCreate()\n",
    "val sc = spark.sparkContext"
   ]
  },
  {
   "cell_type": "code",
   "execution_count": null,
   "id": "958c2178-2a15-4335-a0c8-c2e15ca6ab5d",
   "metadata": {},
   "outputs": [],
   "source": [
    "sc.uiWebUrl"
   ]
  },
  {
   "cell_type": "code",
   "execution_count": null,
   "id": "801c68e9-97a3-4138-8ddd-71375eb69dd8",
   "metadata": {},
   "outputs": [],
   "source": [
    "import org.apache.spark.rdd.RDD\n",
    "val pokemon_rdd: RDD[String] = sc.textFile(\"../../resources/data/csv/pokemon.csv\")\n",
    "    //.flatMap(line => (1 to 10).map(item => line + \",\" + item.toString))\n",
    "pokemon_rdd.collect().foreach(item => println(item))"
   ]
  },
  {
   "cell_type": "code",
   "execution_count": null,
   "id": "59781b39-3ee4-4e70-8916-243169b98246",
   "metadata": {},
   "outputs": [],
   "source": [
    "val clean_pokemon_rdd: RDD[Seq[Any]] = pokemon_rdd\n",
    "    .map(line => line.split(\",\"))\n",
    "    .filter(array_str => array_str(0).matches(\"^[0-9]+$\"))\n",
    "    .map(array_str => Seq(array_str(0).toInt, array_str(1), array_str(2), array_str(3),\n",
    "                          array_str(4).toInt, array_str(5).toInt, array_str(6).toInt, array_str(7).toInt,\n",
    "                          array_str(8).toInt, array_str(9).toInt, array_str(10).toInt, array_str(11).toInt,\n",
    "                          array_str(12).matches(\"True\"))).persist()\n",
    "\n",
    "clean_pokemon_rdd.collect().foreach(item => println(item))"
   ]
  },
  {
   "cell_type": "code",
   "execution_count": null,
   "id": "187e541f-fe9c-4d9f-87cd-2c1c7df3c7fa",
   "metadata": {},
   "outputs": [],
   "source": [
    "// Cuantos pokemon legendarios existen?\n",
    "val count_legendary: Int = clean_pokemon_rdd\n",
    "    .map(array => (array(12), 1))\n",
    "    .filter(item => item._1 == true)\n",
    "    .map(item => item._2)\n",
    "    .reduce((item_1, item_2) => item_1 + item_2)\n",
    "\n",
    "//println(\"count_legendary\", count_legendary)\n",
    "\n",
    "val count_legendary_2: Int = clean_pokemon_rdd\n",
    "    .map(array => (array(12), 1))\n",
    "    .reduceByKey((item_1, item_2) => item_1 + item_2)\n",
    "    .filter(item => item._1 == true)\n",
    "    .collect()(0)._2\n",
    "\n",
    "//print(\"count_legendary_2\", count_legendary_2)"
   ]
  },
  {
   "cell_type": "code",
   "execution_count": null,
   "id": "db885f91-b7ec-4e59-9ef4-5496abc8899b",
   "metadata": {},
   "outputs": [],
   "source": [
    "// Valor promedio de ataque por cada type_1\n",
    "clean_pokemon_rdd\n",
    "    .map(array => (array(2), array(6).toString.toFloat))\n",
    "    .groupByKey()\n",
    "    .mapValues(values => (values.sum, values.size))\n",
    "    .mapValues(items => items._1 / items._2)\n",
    "    .collect()\n",
    "    .foreach(item => println(item))\n",
    "\n",
    "println(\"+-+-+\")\n",
    "\n",
    "clean_pokemon_rdd\n",
    "    .map(array => (array(2), array(6).toString.toFloat))\n",
    "    .groupByKey()\n",
    "    .map(values => (values._1, (values._2.sum / values._2.size)))\n",
    "    .collect()\n",
    "    .foreach(item => println(item))\n",
    "\n",
    "println(\"+-+-+\")\n",
    "\n",
    "clean_pokemon_rdd\n",
    "    .map(array => (array(2), (array(6).toString.toFloat, 1)))\n",
    "    .reduceByKey((tuple_1, tuple_2) => (tuple_1._1 + tuple_2._1, tuple_1._2 + tuple_2._2))\n",
    "    .map(results => (results._1, results._2._1 / results._2._2))\n",
    "    .collect()\n",
    "    .foreach(item => println(item))"
   ]
  },
  {
   "cell_type": "code",
   "execution_count": null,
   "id": "d9ac34f7-4cda-4e12-94bf-3e79b38e6956",
   "metadata": {
    "scrolled": true
   },
   "outputs": [],
   "source": [
    "// Pokemon con mejor score en Total POR cada TYPE 1 Y POR GENERACIÓN OMITIENDO LOS LEGENDARIOS\n",
    "clean_pokemon_rdd\n",
    "    .filter(array => array(12) == false)\n",
    "    .map(array => ((array(2), array(11)), (array(1), array(4).toString.toInt)))\n",
    "    .reduceByKey((item_1, item_2) => if (item_1._2 > item_2._2) item_1 else item_2)\n",
    "    .collect()\n",
    "    .foreach(item => println(item))"
   ]
  },
  {
   "cell_type": "code",
   "execution_count": null,
   "id": "5934683a-1101-4caf-a7e0-bfc912c75f67",
   "metadata": {
    "scrolled": true
   },
   "outputs": [],
   "source": [
    "// Top 3 Pokemon con mejor score en Total POR cada TYPE 1 Y POR GENERACIÓN OMITIENDO LOS LEGENDARIOS\n",
    "clean_pokemon_rdd\n",
    "    .filter(array => array(12) == false)\n",
    "    .map(array => ((array(2), array(11)), (array(1), array(4).toString.toInt)))\n",
    "    .groupByKey()\n",
    "    .mapValues(values => values.toSeq.sortBy(item => item._2)(Ordering[Int].reverse).take(3))\n",
    "    .flatMapValues(results => results)\n",
    "    .collect()\n",
    "    .foreach(item => println(item))"
   ]
  },
  {
   "cell_type": "code",
   "execution_count": null,
   "id": "dd1c174c-a853-4f3f-b18f-f8c53247e663",
   "metadata": {},
   "outputs": [],
   "source": []
  }
 ],
 "metadata": {
  "kernelspec": {
   "display_name": "Apache Toree - Scala",
   "language": "scala",
   "name": "apache_toree_scala"
  },
  "language_info": {
   "codemirror_mode": "text/x-scala",
   "file_extension": ".scala",
   "mimetype": "text/x-scala",
   "name": "scala",
   "pygments_lexer": "scala",
   "version": "2.12.15"
  }
 },
 "nbformat": 4,
 "nbformat_minor": 5
}
