{
 "cells": [
  {
   "cell_type": "markdown",
   "id": "a491a835-7add-4f73-9cb9-f5c7689e555b",
   "metadata": {},
   "source": [
    "- #### Transformaciones\n",
    "    - ##### cache, persist\n",
    "    - ##### coalesce, repartition\n",
    "    - ##### broadcast"
   ]
  },
  {
   "cell_type": "code",
   "execution_count": 11,
   "id": "6956efa9-7ad7-4446-94c1-e2c207fcf290",
   "metadata": {},
   "outputs": [],
   "source": [
    "from pyspark.sql import SparkSession\n",
    "import pyspark.sql.functions as f\n",
    "\n",
    "spark = SparkSession.builder \\\n",
    "        .appName(\"sesion_10\") \\\n",
    "        .master(\"local[*]\") \\\n",
    "        .config(\"spark.sql.adaptive.enabled\", \"false\") \\\n",
    "        .getOrCreate()"
   ]
  },
  {
   "cell_type": "code",
   "execution_count": 2,
   "id": "c8c7a07c-e36a-4eb4-9e67-65efd333918f",
   "metadata": {},
   "outputs": [],
   "source": [
    "spark.conf.set(\"spark.sql.adaptive.enabled\", \"false\")"
   ]
  },
  {
   "cell_type": "code",
   "execution_count": 3,
   "id": "61015da1-9b3f-481c-91af-4b83c30ec252",
   "metadata": {},
   "outputs": [
    {
     "data": {
      "text/html": [
       "\n",
       "            <div>\n",
       "                <p><b>SparkSession - in-memory</b></p>\n",
       "                \n",
       "        <div>\n",
       "            <p><b>SparkContext</b></p>\n",
       "\n",
       "            <p><a href=\"http://23LAP5CD0176GH7:4040\">Spark UI</a></p>\n",
       "\n",
       "            <dl>\n",
       "              <dt>Version</dt>\n",
       "                <dd><code>v3.4.1</code></dd>\n",
       "              <dt>Master</dt>\n",
       "                <dd><code>local[*]</code></dd>\n",
       "              <dt>AppName</dt>\n",
       "                <dd><code>sesion_10</code></dd>\n",
       "            </dl>\n",
       "        </div>\n",
       "        \n",
       "            </div>\n",
       "        "
      ],
      "text/plain": [
       "<pyspark.sql.session.SparkSession at 0x18d6d930430>"
      ]
     },
     "execution_count": 3,
     "metadata": {},
     "output_type": "execute_result"
    }
   ],
   "source": [
    "spark"
   ]
  },
  {
   "cell_type": "code",
   "execution_count": 4,
   "id": "7b206961-7a2a-433f-895e-26834d4cf524",
   "metadata": {},
   "outputs": [],
   "source": [
    "base_path = \"../resources/data/tmp/parquet/\"\n",
    "movies_df = spark.read.parquet(base_path + \"09/movies\")"
   ]
  },
  {
   "cell_type": "code",
   "execution_count": 5,
   "id": "27f78f23-421d-4f34-afbd-caf8d54de7d7",
   "metadata": {},
   "outputs": [
    {
     "name": "stdout",
     "output_type": "stream",
     "text": [
      "+--------+----------------+--------------------+----+--------------------+-------------------+----------+-------------+------------+-------------------+\n",
      "|movie_id|           title|              genres|year|           tag_count|       min_time_tag|avg_rating|stddev_rating|count_rating|    min_time_rating|\n",
      "+--------+----------------+--------------------+----+--------------------+-------------------+----------+-------------+------------+-------------------+\n",
      "|       1|Toy Story (1995)|[Adventure, Anima...|1995|[{1990S, 1}, {200...|2006-01-12 19:19:35|      3.89|         0.93|       76813|1996-01-28 18:00:00|\n",
      "+--------+----------------+--------------------+----+--------------------+-------------------+----------+-------------+------------+-------------------+\n",
      "only showing top 1 row\n",
      "\n"
     ]
    }
   ],
   "source": [
    "movies_df.show(1)"
   ]
  },
  {
   "cell_type": "code",
   "execution_count": 6,
   "id": "e6967b87-5016-4e7f-a8b7-73e52afe93e7",
   "metadata": {},
   "outputs": [
    {
     "data": {
      "text/plain": [
       "79477"
      ]
     },
     "execution_count": 6,
     "metadata": {},
     "output_type": "execute_result"
    }
   ],
   "source": [
    "movies_df.count()"
   ]
  },
  {
   "cell_type": "code",
   "execution_count": 7,
   "id": "6e0dbc4e-1ba4-4bd0-8cee-56eb44530662",
   "metadata": {},
   "outputs": [
    {
     "name": "stdout",
     "output_type": "stream",
     "text": [
      "root\n",
      " |-- movie_id: string (nullable = true)\n",
      " |-- title: string (nullable = true)\n",
      " |-- genres: array (nullable = true)\n",
      " |    |-- element: string (containsNull = true)\n",
      " |-- year: integer (nullable = true)\n",
      " |-- tag_count: array (nullable = true)\n",
      " |    |-- element: struct (containsNull = true)\n",
      " |    |    |-- tag: string (nullable = true)\n",
      " |    |    |-- count: long (nullable = true)\n",
      " |-- min_time_tag: timestamp (nullable = true)\n",
      " |-- avg_rating: double (nullable = true)\n",
      " |-- stddev_rating: double (nullable = true)\n",
      " |-- count_rating: long (nullable = true)\n",
      " |-- min_time_rating: timestamp (nullable = true)\n",
      "\n"
     ]
    }
   ],
   "source": [
    "movies_df.printSchema()"
   ]
  },
  {
   "cell_type": "markdown",
   "id": "47b61397-f9ac-4ef1-9024-27cc5e9ea4a3",
   "metadata": {},
   "source": [
    "### cache, persist"
   ]
  },
  {
   "cell_type": "code",
   "execution_count": 8,
   "id": "107800d2-676a-4d43-a7ab-518a493f45a2",
   "metadata": {},
   "outputs": [],
   "source": [
    "id_1_df = spark.range(1, 100000000, 1) \\\n",
    "    .select(\"id\", (f.col(\"id\") * 2).alias(\"id_mult_2\"))\n",
    "\n",
    "id_2_df = spark.range(1, 100000000, 2) \\\n",
    "    .select(\"id\", (f.col(\"id\") * 3).alias(\"id_mult_3\"))"
   ]
  },
  {
   "cell_type": "code",
   "execution_count": 13,
   "id": "6cfae8c9-f924-47b9-a580-7ae678827f7f",
   "metadata": {},
   "outputs": [],
   "source": [
    "## expensive generation of id_join\n",
    "from pyspark.storagelevel import StorageLevel\n",
    "\n",
    "id_join = id_1_df.join(id_2_df, [\"id\"])#.persist(StorageLevel.DISK_ONLY)"
   ]
  },
  {
   "cell_type": "code",
   "execution_count": 14,
   "id": "70d55b5e-0238-4c07-bf81-964f6dacdcfa",
   "metadata": {},
   "outputs": [
    {
     "data": {
      "text/plain": [
       "50000000"
      ]
     },
     "execution_count": 14,
     "metadata": {},
     "output_type": "execute_result"
    }
   ],
   "source": [
    "id_join.count()"
   ]
  },
  {
   "cell_type": "code",
   "execution_count": 15,
   "id": "1abb793c-e9d4-4fba-94cf-b1052daa6e7d",
   "metadata": {},
   "outputs": [],
   "source": [
    "result_1 = movies_df \\\n",
    "    .join(id_join, f.col(\"movie_id\") == f.col(\"id\"), \"left\") \\\n",
    "    .select(f.col(\"*\"), (f.col(\"year\") * (f.col(\"id\") % 2)).alias(\"other_id\"))"
   ]
  },
  {
   "cell_type": "code",
   "execution_count": 16,
   "id": "490d8426-25a1-4105-849e-1d148556ac4a",
   "metadata": {},
   "outputs": [],
   "source": [
    "result_2 = result_1 \\\n",
    "    .join(id_join.select(f.col(\"id\")), [\"id\"], \"left_semi\")"
   ]
  },
  {
   "cell_type": "code",
   "execution_count": 17,
   "id": "fa21ff48-94e5-4aca-adfb-7a366769be72",
   "metadata": {},
   "outputs": [
    {
     "data": {
      "text/plain": [
       "44456"
      ]
     },
     "execution_count": 17,
     "metadata": {},
     "output_type": "execute_result"
    }
   ],
   "source": [
    "result_2.count()"
   ]
  },
  {
   "cell_type": "code",
   "execution_count": null,
   "id": "07a9d939-0f8c-40b6-9363-11e6666bb132",
   "metadata": {},
   "outputs": [],
   "source": []
  },
  {
   "cell_type": "code",
   "execution_count": null,
   "id": "64894344-9703-4b37-8d50-a78e66b81a60",
   "metadata": {},
   "outputs": [],
   "source": []
  },
  {
   "cell_type": "code",
   "execution_count": 51,
   "id": "d3ed53f9-276e-489d-9395-11625ced345c",
   "metadata": {},
   "outputs": [],
   "source": [
    "target = 6\n",
    "dp = [[] for _ in range(target + 1)]"
   ]
  },
  {
   "cell_type": "code",
   "execution_count": 52,
   "id": "3eaf5148-1080-450d-9be1-cb42accb0452",
   "metadata": {},
   "outputs": [
    {
     "data": {
      "text/plain": [
       "[[], [], [], [], [], [], []]"
      ]
     },
     "execution_count": 52,
     "metadata": {},
     "output_type": "execute_result"
    }
   ],
   "source": [
    "dp"
   ]
  },
  {
   "cell_type": "code",
   "execution_count": 53,
   "id": "f3a7a61d-15fe-4eed-bd6f-75b18b842991",
   "metadata": {},
   "outputs": [],
   "source": [
    "dp[0] = [[]]"
   ]
  },
  {
   "cell_type": "code",
   "execution_count": 54,
   "id": "62c0ebac-1d0f-4b91-a8f1-19d3ac7aa6ce",
   "metadata": {},
   "outputs": [
    {
     "data": {
      "text/plain": [
       "[[[]], [], [], [], [], [], []]"
      ]
     },
     "execution_count": 54,
     "metadata": {},
     "output_type": "execute_result"
    }
   ],
   "source": [
    "dp"
   ]
  },
  {
   "cell_type": "code",
   "execution_count": 86,
   "id": "b2196c16-fc31-4ef1-b694-a4d0373bb010",
   "metadata": {
    "scrolled": true
   },
   "outputs": [],
   "source": [
    "def find_combinations(nums, target):\n",
    "    # Crear una lista de listas para almacenar las combinaciones\n",
    "    dp = [[] for _ in range(target + 1)]\n",
    "    dp[0] = [[]]\n",
    "\n",
    "    print(\"dp\", dp)\n",
    "    \n",
    "    for num in nums:\n",
    "        for i in range(target, num - 1, -1):\n",
    "            print(\"num\", num, \"i\", i, \"dp[i]\", dp)\n",
    "            for combo in dp[i - num]:\n",
    "                dp[i].append(combo + [num])\n",
    "                print(\"     dp\", dp)\n",
    "            \n",
    "\n",
    "    return dp[target]"
   ]
  },
  {
   "cell_type": "code",
   "execution_count": 87,
   "id": "a52ecf6f-3bfd-42c6-9cd6-42c19d1ac6b1",
   "metadata": {},
   "outputs": [
    {
     "name": "stdout",
     "output_type": "stream",
     "text": [
      "dp [[[]], [], [], [], []]\n",
      "num 2 i 4 dp[i] [[[]], [], [], [], []]\n",
      "num 2 i 3 dp[i] [[[]], [], [], [], []]\n",
      "num 2 i 2 dp[i] [[[]], [], [], [], []]\n",
      "     dp [[[]], [], [[2]], [], []]\n",
      "num 4 i 4 dp[i] [[[]], [], [[2]], [], []]\n",
      "     dp [[[]], [], [[2]], [], [[4]]]\n",
      "num 3 i 4 dp[i] [[[]], [], [[2]], [], [[4]]]\n",
      "num 3 i 3 dp[i] [[[]], [], [[2]], [], [[4]]]\n",
      "     dp [[[]], [], [[2]], [[3]], [[4]]]\n",
      "num 4 i 4 dp[i] [[[]], [], [[2]], [[3]], [[4]]]\n",
      "     dp [[[]], [], [[2]], [[3]], [[4], [4]]]\n",
      "num 1 i 4 dp[i] [[[]], [], [[2]], [[3]], [[4], [4]]]\n",
      "     dp [[[]], [], [[2]], [[3]], [[4], [4], [3, 1]]]\n",
      "num 1 i 3 dp[i] [[[]], [], [[2]], [[3]], [[4], [4], [3, 1]]]\n",
      "     dp [[[]], [], [[2]], [[3], [2, 1]], [[4], [4], [3, 1]]]\n",
      "num 1 i 2 dp[i] [[[]], [], [[2]], [[3], [2, 1]], [[4], [4], [3, 1]]]\n",
      "num 1 i 1 dp[i] [[[]], [], [[2]], [[3], [2, 1]], [[4], [4], [3, 1]]]\n",
      "     dp [[[]], [[1]], [[2]], [[3], [2, 1]], [[4], [4], [3, 1]]]\n",
      "num 2 i 4 dp[i] [[[]], [[1]], [[2]], [[3], [2, 1]], [[4], [4], [3, 1]]]\n",
      "     dp [[[]], [[1]], [[2]], [[3], [2, 1]], [[4], [4], [3, 1], [2, 2]]]\n",
      "num 2 i 3 dp[i] [[[]], [[1]], [[2]], [[3], [2, 1]], [[4], [4], [3, 1], [2, 2]]]\n",
      "     dp [[[]], [[1]], [[2]], [[3], [2, 1], [1, 2]], [[4], [4], [3, 1], [2, 2]]]\n",
      "num 2 i 2 dp[i] [[[]], [[1]], [[2]], [[3], [2, 1], [1, 2]], [[4], [4], [3, 1], [2, 2]]]\n",
      "     dp [[[]], [[1]], [[2], [2]], [[3], [2, 1], [1, 2]], [[4], [4], [3, 1], [2, 2]]]\n",
      "[[4], [4], [3, 1], [2, 2]]\n"
     ]
    }
   ],
   "source": [
    "lista = [2, 4, 5, 3, 4, 1, 2]\n",
    "valor_objetivo = 4\n",
    "combinaciones = find_combinations(lista, valor_objetivo)\n",
    "print(combinaciones)"
   ]
  },
  {
   "cell_type": "code",
   "execution_count": null,
   "id": "1f52e9b2-c74b-4c8d-a3e7-4aab518c68e6",
   "metadata": {},
   "outputs": [],
   "source": []
  }
 ],
 "metadata": {
  "kernelspec": {
   "display_name": "Python 3 (ipykernel)",
   "language": "python",
   "name": "python3"
  },
  "language_info": {
   "codemirror_mode": {
    "name": "ipython",
    "version": 3
   },
   "file_extension": ".py",
   "mimetype": "text/x-python",
   "name": "python",
   "nbconvert_exporter": "python",
   "pygments_lexer": "ipython3",
   "version": "3.9.13"
  }
 },
 "nbformat": 4,
 "nbformat_minor": 5
}
