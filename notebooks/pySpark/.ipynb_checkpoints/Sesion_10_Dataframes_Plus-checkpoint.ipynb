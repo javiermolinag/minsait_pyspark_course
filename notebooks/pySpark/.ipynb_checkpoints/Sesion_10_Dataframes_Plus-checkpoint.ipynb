{
 "cells": [
  {
   "cell_type": "markdown",
   "id": "a491a835-7add-4f73-9cb9-f5c7689e555b",
   "metadata": {},
   "source": [
    "- #### Transformaciones\n",
    "    - ##### agg\n",
    "    - ##### describe\n",
    "    - ##### summary\n",
    "    - ##### crossJoin\n",
    "    - ##### sample\n",
    "    - ##### na functions\n",
    "    - ##### UDF"
   ]
  },
  {
   "cell_type": "code",
   "execution_count": 1,
   "id": "6956efa9-7ad7-4446-94c1-e2c207fcf290",
   "metadata": {},
   "outputs": [],
   "source": [
    "from pyspark.sql import SparkSession\n",
    "\n",
    "spark = SparkSession.builder \\\n",
    "        .appName(\"sesion_10\") \\\n",
    "        .master(\"local[*]\") \\\n",
    "        .getOrCreate()"
   ]
  },
  {
   "cell_type": "code",
   "execution_count": 2,
   "id": "7b206961-7a2a-433f-895e-26834d4cf524",
   "metadata": {
    "scrolled": true
   },
   "outputs": [
    {
     "name": "stdout",
     "output_type": "stream",
     "text": [
      "+--------+----------------+--------------------+----+--------------------+-------------------+----------+-------------+------------+-------------------+\n",
      "|movie_id|           title|              genres|year|           tag_count|       min_time_tag|avg_rating|stddev_rating|count_rating|    min_time_rating|\n",
      "+--------+----------------+--------------------+----+--------------------+-------------------+----------+-------------+------------+-------------------+\n",
      "|       1|Toy Story (1995)|[Adventure, Anima...|1995|[{1990S, 1}, {200...|2006-01-12 19:19:35|      3.89|         0.93|       76813|1996-01-28 18:00:00|\n",
      "+--------+----------------+--------------------+----+--------------------+-------------------+----------+-------------+------------+-------------------+\n",
      "only showing top 1 row\n",
      "\n"
     ]
    }
   ],
   "source": [
    "base_path = \"../resources/data/tmp/parquet/\"\n",
    "movies_df = spark.read.parquet(base_path + \"09/movies\")\n",
    "top_movies_df = spark.read.parquet(base_path + \"09/top_movies\")\n",
    "movies_df.show(1)"
   ]
  },
  {
   "cell_type": "code",
   "execution_count": 5,
   "id": "e6967b87-5016-4e7f-a8b7-73e52afe93e7",
   "metadata": {},
   "outputs": [
    {
     "data": {
      "text/plain": [
       "79477"
      ]
     },
     "execution_count": 5,
     "metadata": {},
     "output_type": "execute_result"
    }
   ],
   "source": [
    "movies_df.count()"
   ]
  },
  {
   "cell_type": "code",
   "execution_count": 6,
   "id": "6e0dbc4e-1ba4-4bd0-8cee-56eb44530662",
   "metadata": {},
   "outputs": [
    {
     "name": "stdout",
     "output_type": "stream",
     "text": [
      "root\n",
      " |-- movie_id: string (nullable = true)\n",
      " |-- title: string (nullable = true)\n",
      " |-- genres: array (nullable = true)\n",
      " |    |-- element: string (containsNull = true)\n",
      " |-- year: integer (nullable = true)\n",
      " |-- tag_count: array (nullable = true)\n",
      " |    |-- element: struct (containsNull = true)\n",
      " |    |    |-- tag: string (nullable = true)\n",
      " |    |    |-- count: long (nullable = true)\n",
      " |-- min_time_tag: timestamp (nullable = true)\n",
      " |-- avg_rating: double (nullable = true)\n",
      " |-- stddev_rating: double (nullable = true)\n",
      " |-- count_rating: long (nullable = true)\n",
      " |-- min_time_rating: timestamp (nullable = true)\n",
      "\n"
     ]
    }
   ],
   "source": [
    "movies_df.printSchema()"
   ]
  },
  {
   "cell_type": "markdown",
   "id": "e4ee14ce-d71f-4b56-9ea5-e0a7b64b6218",
   "metadata": {},
   "source": [
    "### agg"
   ]
  },
  {
   "cell_type": "code",
   "execution_count": 7,
   "id": "223c9f7c-4cee-4f39-ad0c-f8cb32a4d57c",
   "metadata": {},
   "outputs": [
    {
     "name": "stdout",
     "output_type": "stream",
     "text": [
      "+--------------+---------------------+----------------+-------------------+-------------------+----------------+--------+\n",
      "|count_movie_id|approx_count_movie_id|count_d_movie_id|       min_time_tag|    min_time_rating|max_count_rating|max_tags|\n",
      "+--------------+---------------------+----------------+-------------------+-------------------+----------------+--------+\n",
      "|         79477|                89110|           79477|2005-12-24 07:00:10|1995-01-09 05:46:44|          122296|    1350|\n",
      "+--------------+---------------------+----------------+-------------------+-------------------+----------------+--------+\n",
      "\n"
     ]
    }
   ],
   "source": [
    "import pyspark.sql.functions as f\n",
    "movies_df.agg(\n",
    "    f.count(\"movie_id\").alias(\"count_movie_id\"),\n",
    "    f.approx_count_distinct(f.col(\"movie_id\")).alias(\"approx_count_movie_id\"),\n",
    "    f.count_distinct(f.col(\"movie_id\")).alias(\"count_d_movie_id\"),\n",
    "    f.min(\"min_time_tag\").alias(\"min_time_tag\"),\n",
    "    f.min(\"min_time_rating\").alias(\"min_time_rating\"),\n",
    "    f.max(\"count_rating\").alias(\"max_count_rating\"),\n",
    "    f.max(f.size(\"tag_count\")).alias(\"max_tags\")\n",
    ").show()\n",
    "\n",
    "## equivalente a DataFrame.groupBy().agg( ... )"
   ]
  },
  {
   "cell_type": "markdown",
   "id": "4b826658-5b6d-4391-8ac7-a4e46ff6cf26",
   "metadata": {},
   "source": [
    "### describe"
   ]
  },
  {
   "cell_type": "code",
   "execution_count": 8,
   "id": "0f60fdb1-aede-4165-a053-29a49f4f13cb",
   "metadata": {},
   "outputs": [
    {
     "name": "stdout",
     "output_type": "stream",
     "text": [
      "+-------+-----------------+--------------------+------------------+------------------+------------------+------------------+\n",
      "|summary|         movie_id|               title|              year|        avg_rating|     stddev_rating|      count_rating|\n",
      "+-------+-----------------+--------------------+------------------+------------------+------------------+------------------+\n",
      "|  count|            79477|               79477|             79235|             76718|             76718|             76718|\n",
      "|   mean|153654.5569661663|                null|1995.6375717801477|3.0151092312105634|0.7114514194843852| 440.2630803722725|\n",
      "| stddev|80063.84778983405|                null| 25.71829579663134|0.7784714800542165|0.4841102151081126|2921.2112388061987|\n",
      "|    min|                1|\"\"\"BLOW THE NIGHT...|              1874|               0.5|               0.0|                 1|\n",
      "|    max|            99999|       貞子3D (2012)|              2023|               5.0|              2.25|            122296|\n",
      "+-------+-----------------+--------------------+------------------+------------------+------------------+------------------+\n",
      "\n"
     ]
    }
   ],
   "source": [
    "movies_df.describe().show()"
   ]
  },
  {
   "cell_type": "code",
   "execution_count": 9,
   "id": "56f485bd-c1de-438e-a85b-4409c9228201",
   "metadata": {},
   "outputs": [
    {
     "name": "stdout",
     "output_type": "stream",
     "text": [
      "+-------+------------------+------------------+------------------+------------------+\n",
      "|summary|              year|        avg_rating|     stddev_rating|      count_rating|\n",
      "+-------+------------------+------------------+------------------+------------------+\n",
      "|  count|             79235|             76718|             76718|             76718|\n",
      "|   mean|1995.6375717801477|3.0151092312105634|0.7114514194843852| 440.2630803722725|\n",
      "| stddev| 25.71829579663134|0.7784714800542165|0.4841102151081126|2921.2112388061987|\n",
      "|    min|              1874|               0.5|               0.0|                 1|\n",
      "|    max|              2023|               5.0|              2.25|            122296|\n",
      "+-------+------------------+------------------+------------------+------------------+\n",
      "\n"
     ]
    }
   ],
   "source": [
    "### se pueden enviar columnas - for all numerical or string columns\n",
    "movies_df.describe([\"year\", \"avg_rating\", \"stddev_rating\", \"count_rating\", \"min_time_tag\", \"min_time_rating\"]).show()"
   ]
  },
  {
   "cell_type": "markdown",
   "id": "5aab3c46-f149-422b-b9a1-c88797346caa",
   "metadata": {},
   "source": [
    "### summary"
   ]
  },
  {
   "cell_type": "code",
   "execution_count": 10,
   "id": "3b2c6cf5-4f6d-4529-bc6c-fb3f68f73b4c",
   "metadata": {},
   "outputs": [
    {
     "name": "stdout",
     "output_type": "stream",
     "text": [
      "+-------+-----------------+--------------------+------------------+------------------+------------------+------------------+\n",
      "|summary|         movie_id|               title|              year|        avg_rating|     stddev_rating|      count_rating|\n",
      "+-------+-----------------+--------------------+------------------+------------------+------------------+------------------+\n",
      "|  count|            79477|               79477|             79235|             76718|             76718|             76718|\n",
      "|   mean|153654.5569661663|                null|1995.6375717801477|3.0151092312105634|0.7114514194843852| 440.2630803722725|\n",
      "| stddev|80063.84778983405|                null| 25.71829579663134|0.7784714800542165|0.4841102151081126|2921.2112388061987|\n",
      "|    min|                1|\"\"\"BLOW THE NIGHT...|              1874|               0.5|               0.0|                 1|\n",
      "|    25%|         103171.0|                null|              1981|              2.59|              0.25|                 2|\n",
      "|    50%|         163358.0|                null|              2006|              3.09|              0.84|                 6|\n",
      "|    75%|         211586.0|                null|              2015|               3.5|              1.06|                31|\n",
      "|    max|            99999|       貞子3D (2012)|              2023|               5.0|              2.25|            122296|\n",
      "+-------+-----------------+--------------------+------------------+------------------+------------------+------------------+\n",
      "\n"
     ]
    }
   ],
   "source": [
    "## Use summary for expanded statistics and control over which statistics to compute.\n",
    "movies_df.summary().show()"
   ]
  },
  {
   "cell_type": "code",
   "execution_count": 12,
   "id": "b102f563-1eb0-49dc-84c7-b607ea4ffeb9",
   "metadata": {},
   "outputs": [
    {
     "name": "stdout",
     "output_type": "stream",
     "text": [
      "+-------+--------+--------------------+-----+----------+-------------+------------+\n",
      "|summary|movie_id|               title| year|avg_rating|stddev_rating|count_rating|\n",
      "+-------+--------+--------------------+-----+----------+-------------+------------+\n",
      "|  count|   79477|               79477|79235|     76718|        76718|       76718|\n",
      "|    min|       1|\"\"\"BLOW THE NIGHT...| 1874|       0.5|          0.0|           1|\n",
      "|    25%|103171.0|                null| 1981|      2.59|         0.25|           2|\n",
      "|    75%|211586.0|                null| 2015|       3.5|         1.06|          31|\n",
      "|    max|   99999|       貞子3D (2012)| 2023|       5.0|         2.25|      122296|\n",
      "+-------+--------+--------------------+-----+----------+-------------+------------+\n",
      "\n"
     ]
    }
   ],
   "source": [
    "movies_df.summary([\"count\", \"min\", \"25%\", \"75%\", \"max\"]).show()"
   ]
  },
  {
   "cell_type": "markdown",
   "id": "ab9b8414-dc0d-4fca-93b5-7ee2fd6b6457",
   "metadata": {},
   "source": [
    "### crossJoin"
   ]
  },
  {
   "cell_type": "code",
   "execution_count": 13,
   "id": "20cbd0ef-b02c-4265-9eab-0b1bea4910fa",
   "metadata": {},
   "outputs": [
    {
     "name": "stdout",
     "output_type": "stream",
     "text": [
      "+-------+-----------------+--------------------+------------------+------------------+------------------+------------------+\n",
      "|summary|         movie_id|               title|              year|        avg_rating|     stddev_rating|      count_rating|\n",
      "+-------+-----------------+--------------------+------------------+------------------+------------------+------------------+\n",
      "|  count|            79477|               79477|             79235|             76718|             76718|             76718|\n",
      "|   mean|153654.5569661663|                null|1995.6375717801477|3.0151092312105634|0.7114514194843852| 440.2630803722725|\n",
      "| stddev|80063.84778983405|                null| 25.71829579663134|0.7784714800542165|0.4841102151081126|2921.2112388061987|\n",
      "|    min|                1|\"\"\"BLOW THE NIGHT...|              1874|               0.5|               0.0|                 1|\n",
      "|    25%|         103171.0|                null|              1981|              2.59|              0.25|                 2|\n",
      "|    50%|         163358.0|                null|              2006|              3.09|              0.84|                 6|\n",
      "|    75%|         211586.0|                null|              2015|               3.5|              1.06|                31|\n",
      "|    max|            99999|       貞子3D (2012)|              2023|               5.0|              2.25|            122296|\n",
      "+-------+-----------------+--------------------+------------------+------------------+------------------+------------------+\n",
      "\n"
     ]
    }
   ],
   "source": [
    "df = movies_df.summary()\n",
    "df.show()"
   ]
  },
  {
   "cell_type": "code",
   "execution_count": 14,
   "id": "007784de-352c-4932-9e66-fe286e06b39b",
   "metadata": {},
   "outputs": [
    {
     "name": "stdout",
     "output_type": "stream",
     "text": [
      "+---+\n",
      "| id|\n",
      "+---+\n",
      "|  1|\n",
      "|  2|\n",
      "|  3|\n",
      "|  4|\n",
      "|  5|\n",
      "|  6|\n",
      "|  7|\n",
      "|  8|\n",
      "|  9|\n",
      "+---+\n",
      "\n"
     ]
    }
   ],
   "source": [
    "df_ids = spark.range(1,10,1)\n",
    "df_ids.show()"
   ]
  },
  {
   "cell_type": "code",
   "execution_count": 15,
   "id": "970368f8-fc87-4842-9d12-34fac8f08614",
   "metadata": {},
   "outputs": [
    {
     "data": {
      "text/plain": [
       "72"
      ]
     },
     "execution_count": 15,
     "metadata": {},
     "output_type": "execute_result"
    }
   ],
   "source": [
    "df.crossJoin(df_ids).count()"
   ]
  },
  {
   "cell_type": "markdown",
   "id": "da665c3d-21b7-40bc-abe6-a2c5361814ed",
   "metadata": {},
   "source": [
    "### sample"
   ]
  },
  {
   "cell_type": "code",
   "execution_count": 16,
   "id": "ad0345b6-a976-40e6-afda-bb39f85fff62",
   "metadata": {},
   "outputs": [
    {
     "data": {
      "text/plain": [
       "7.1529300000000005"
      ]
     },
     "execution_count": 16,
     "metadata": {},
     "output_type": "execute_result"
    }
   ],
   "source": [
    "movies_df.count() * 0.00009"
   ]
  },
  {
   "cell_type": "code",
   "execution_count": 17,
   "id": "5a715523-52ee-4d23-ab8d-5c34dbd1fd86",
   "metadata": {},
   "outputs": [
    {
     "data": {
      "text/plain": [
       "9"
      ]
     },
     "execution_count": 17,
     "metadata": {},
     "output_type": "execute_result"
    }
   ],
   "source": [
    "movies_sample_df = movies_df \\\n",
    "    .select('movie_id', 'title', 'genres', 'year', 'min_time_tag', 'avg_rating', 'stddev_rating', 'count_rating', 'min_time_rating') \\\n",
    "    .sample(False, 0.00009, 1)\n",
    "movies_sample_df.count()"
   ]
  },
  {
   "cell_type": "code",
   "execution_count": 18,
   "id": "52e852b6-9ef5-4a29-83fb-9f79f4002961",
   "metadata": {},
   "outputs": [
    {
     "name": "stdout",
     "output_type": "stream",
     "text": [
      "+--------+--------------------+--------------------+----+-------------------+----------+-------------+------------+-------------------+\n",
      "|movie_id|               title|              genres|year|       min_time_tag|avg_rating|stddev_rating|count_rating|    min_time_rating|\n",
      "+--------+--------------------+--------------------+----+-------------------+----------+-------------+------------+-------------------+\n",
      "|    6714|So Close (Chik Ye...|[Action, Comedy, ...|2002|2009-04-07 12:14:07|       3.3|         1.06|         171|2003-08-31 22:10:05|\n",
      "|  127062|The Lumière Broth...|       [Documentary]|1996|2015-02-08 05:24:46|       3.3|         1.65|          10|2015-01-30 11:55:53|\n",
      "|  139034|The Closed Circui...|      [Crime, Drama]|2013|2018-05-24 01:16:17|      3.41|         1.02|          11|2015-07-18 02:27:23|\n",
      "|  141191|         OPA! (2005)|   [Comedy, Romance]|2005|               null|      2.83|         0.62|           3|2015-08-23 07:47:58|\n",
      "|  179875| The Sex Trip (2017)|   [Comedy, Fantasy]|2017|               null|      3.29|         1.41|           7|2017-10-29 06:05:20|\n",
      "|  195585|Eternal Life of A...| [Adventure, Comedy]|2018|               null|       3.6|         0.73|           5|2018-12-30 09:47:51|\n",
      "|  199510|Room for Rent (2017)|   [Comedy, Mystery]|2017|               null|      3.38|         0.65|           4|2019-03-04 16:26:47|\n",
      "|  213249|I Only Want You t...|             [Drama]|1976|               null|       3.5|         0.61|           4|2020-02-24 13:38:46|\n",
      "|  265492|   Encounters (2020)|             [Drama]|2020|               null|       4.5|          0.5|           2|2021-12-01 07:47:11|\n",
      "+--------+--------------------+--------------------+----+-------------------+----------+-------------+------------+-------------------+\n",
      "\n"
     ]
    }
   ],
   "source": [
    "movies_sample_df.show()"
   ]
  },
  {
   "cell_type": "markdown",
   "id": "ed69e55f-7761-427c-8a51-56d5caa2ef30",
   "metadata": {},
   "source": [
    "### na"
   ]
  },
  {
   "cell_type": "code",
   "execution_count": 19,
   "id": "c9f80644-5ab4-4772-b33d-473e7bfa2136",
   "metadata": {},
   "outputs": [],
   "source": [
    "first_movies_df = movies_df \\\n",
    "    .select('movie_id', 'title', 'genres', 'year', 'min_time_tag', 'avg_rating', 'stddev_rating', 'count_rating', 'min_time_rating') \\\n",
    "    .limit(5)\n",
    "#first_movies_df.show(1)"
   ]
  },
  {
   "cell_type": "code",
   "execution_count": 20,
   "id": "e7c5078f-e25d-47d1-ae25-5cafb825caab",
   "metadata": {},
   "outputs": [],
   "source": [
    "id_df = spark.range(1,11,1).select(f.col(\"id\").alias(\"movie_id\"))"
   ]
  },
  {
   "cell_type": "code",
   "execution_count": 21,
   "id": "c05815eb-7fa6-46b8-999e-2f0bbab61083",
   "metadata": {},
   "outputs": [
    {
     "name": "stdout",
     "output_type": "stream",
     "text": [
      "+--------+--------------------+--------------------+----+-------------------+----------+-------------+------------+-------------------+\n",
      "|movie_id|               title|              genres|year|       min_time_tag|avg_rating|stddev_rating|count_rating|    min_time_rating|\n",
      "+--------+--------------------+--------------------+----+-------------------+----------+-------------+------------+-------------------+\n",
      "|       1|    Toy Story (1995)|[Adventure, Anima...|1995|2006-01-12 19:19:35|      3.89|         0.93|       76813|1996-01-28 18:00:00|\n",
      "|       2|      Jumanji (1995)|[Adventure, Child...|1995|2006-01-13 14:14:30|      3.28|         0.96|       30209|1996-01-28 18:00:00|\n",
      "|       3|Grumpier Old Men ...|   [Comedy, Romance]|1995|2006-01-16 00:28:45|      3.17|         1.02|       15820|1996-01-29 17:54:45|\n",
      "|       4|Waiting to Exhale...|[Comedy, Drama, R...|1995|2007-08-13 15:04:13|      2.87|         1.11|        3028|1996-02-01 08:33:45|\n",
      "|       5|Father of the Bri...|            [Comedy]|1995|2006-01-12 15:49:34|      3.08|          1.0|       15801|1996-01-29 17:54:46|\n",
      "|       6|                null|                null|null|               null|      null|         null|        null|               null|\n",
      "|       7|                null|                null|null|               null|      null|         null|        null|               null|\n",
      "|       8|                null|                null|null|               null|      null|         null|        null|               null|\n",
      "|       9|                null|                null|null|               null|      null|         null|        null|               null|\n",
      "|      10|                null|                null|null|               null|      null|         null|        null|               null|\n",
      "+--------+--------------------+--------------------+----+-------------------+----------+-------------+------------+-------------------+\n",
      "\n"
     ]
    }
   ],
   "source": [
    "null_df = id_df.join(first_movies_df, [\"movie_id\"], \"left\")\n",
    "null_df.show()"
   ]
  },
  {
   "cell_type": "markdown",
   "id": "08f4ba00-39ab-4899-8d35-307e97ef0cd1",
   "metadata": {},
   "source": [
    "##### na.fill"
   ]
  },
  {
   "cell_type": "code",
   "execution_count": 22,
   "id": "a3906320-58ae-427c-87c8-35e885000d90",
   "metadata": {},
   "outputs": [],
   "source": [
    "# alias de fillna\n",
    "\n",
    "# null_df.na.fill(\"Unknow\").show()\n",
    "# null_df.na.fill(0).show()\n",
    "# null_df.na.fill(0, [\"avg_rating\", \"stddev_rating\", \"count_rating\"]).show()\n",
    "\n",
    "# sólo funciona con los tipos: int, float, string, bool, no funciona con tipos complejos\n",
    "#null_df.na.fill({\"title\": \"Unknow\", \"year\": 1970}).show()"
   ]
  },
  {
   "cell_type": "markdown",
   "id": "35aef169-bb73-43c2-84c9-1ca1d10ef5f0",
   "metadata": {},
   "source": [
    "##### na.replace"
   ]
  },
  {
   "cell_type": "code",
   "execution_count": 23,
   "id": "064c688f-b02d-480c-95f6-5d43b8ed9efb",
   "metadata": {},
   "outputs": [],
   "source": [
    "# alias de replace()\n",
    "\n",
    "# null_df.na.replace(1995, 1900).show()\n",
    "# null_df.na.replace([1995, 1, 2], [1970, 0, 0]).show()\n",
    "# null_df.na.replace([1995, 1, 2, 3.89], [1970, 0, 0, 4], [\"movie_id\", \"year\"]).show()\n",
    "\n",
    "# No se permite colocar múltiples tipos\n",
    "# null_df.na.replace([1995, 1, 2, \"Toy Story (1995)\"], [1970, 0, 0, \"Toy Story\"], [\"movie_id\", \"year\"]).show() # -> error\n",
    "\n",
    "#null_df.na.replace({1995:1970, 1:0, 2:0, 3.89:4}, subset=[\"movie_id\", \"year\"]).show()"
   ]
  },
  {
   "cell_type": "markdown",
   "id": "e5ccb439-5199-4914-85a0-177c3ffea93c",
   "metadata": {},
   "source": [
    "##### na.drop"
   ]
  },
  {
   "cell_type": "code",
   "execution_count": 24,
   "id": "101f0002-437c-451c-b6bb-2e0b3e506e72",
   "metadata": {},
   "outputs": [],
   "source": [
    "# alias de dropna\n",
    "\n",
    "drop_df = null_df \\\n",
    "    .na.fill(0) \\\n",
    "    .na.fill(\"Unknow\")\n",
    "\n",
    "# drop_df.show()\n",
    "\n",
    "# drop_df.na.drop(\"any\").show()\n",
    "# drop_df.select(\"genres\", \"min_time_tag\", \"min_time_rating\").na.drop(\"all\").show()\n",
    "# drop_df.na.drop(\"all\", thresh=6).show()\n",
    "\n",
    "# drop_df.na.drop(\"any\", subset=[\"genres\", \"avg_rating\", \"stddev_rating\"]).show()\n",
    "# drop_df.na.drop(\"any\", thresh=3, subset=[\"genres\", \"avg_rating\", \"stddev_rating\"]).show()"
   ]
  },
  {
   "cell_type": "markdown",
   "id": "6fcbf55d-8fe3-4394-9418-a3c1af6fa2ea",
   "metadata": {},
   "source": [
    "### UDF (User Defined Functions)"
   ]
  },
  {
   "cell_type": "code",
   "execution_count": 34,
   "id": "fc2db946-3309-4989-bd91-03d1343746cc",
   "metadata": {},
   "outputs": [],
   "source": [
    "from pyspark.sql.types import *"
   ]
  },
  {
   "cell_type": "code",
   "execution_count": 25,
   "id": "db197753-0e42-4159-add1-6b2bc042cb5e",
   "metadata": {},
   "outputs": [
    {
     "name": "stdout",
     "output_type": "stream",
     "text": [
      "+--------+----------------+-----------------+\n",
      "|movie_id|title           |concat           |\n",
      "+--------+----------------+-----------------+\n",
      "|1       |Toy Story (1995)|1Toy Story (1995)|\n",
      "+--------+----------------+-----------------+\n",
      "only showing top 1 row\n",
      "\n"
     ]
    }
   ],
   "source": [
    "## Forma 1 - utilizando la funcion udf\n",
    "\n",
    "def some_str_function(param_1: str, param_2: str) -> str:\n",
    "    return param_1 + param_2\n",
    "\n",
    "function_type1_udf = f.udf(lambda item_1, item_2: some_str_function(item_1, item_2), StringType())\n",
    "\n",
    "movies_df \\\n",
    "    .select(\"movie_id\", \"title\", function_type1_udf(f.col(\"movie_id\"), f.col(\"title\")).alias(\"concat\")) \\\n",
    "    .show(1,False)"
   ]
  },
  {
   "cell_type": "code",
   "execution_count": 26,
   "id": "b4b4f9e1-5ac2-451b-b189-95f0c107bd21",
   "metadata": {},
   "outputs": [
    {
     "name": "stdout",
     "output_type": "stream",
     "text": [
      "+--------+----------------+-----------------+\n",
      "|movie_id|title           |concat           |\n",
      "+--------+----------------+-----------------+\n",
      "|1       |Toy Story (1995)|1Toy Story (1995)|\n",
      "+--------+----------------+-----------------+\n",
      "only showing top 1 row\n",
      "\n"
     ]
    }
   ],
   "source": [
    "## Forma 2 - utilizando la funcion udfcomo decorador\n",
    "@f.udf(returnType=StringType())\n",
    "def some_str_function_(param_1: str, param_2: str) -> str:\n",
    "    return param_1 + param_2\n",
    "\n",
    "movies_df \\\n",
    "    .select(\"movie_id\", \"title\", some_str_function_(f.col(\"movie_id\"), f.col(\"title\")).alias(\"concat\")) \\\n",
    "    .show(1,False)"
   ]
  },
  {
   "cell_type": "markdown",
   "id": "0a4279b4-ea40-4263-a956-ff9abe877122",
   "metadata": {},
   "source": [
    "##### Utilizar UDF en sql"
   ]
  },
  {
   "cell_type": "code",
   "execution_count": 33,
   "id": "d99f8b60-c9d5-4cef-8ad7-76fd46d86860",
   "metadata": {},
   "outputs": [
    {
     "name": "stdout",
     "output_type": "stream",
     "text": [
      "+--------+----------------+--------------------+----+--------------------+-------------------+----------+-------------+------------+-------------------+\n",
      "|movie_id|           title|              genres|year|           tag_count|       min_time_tag|avg_rating|stddev_rating|count_rating|    min_time_rating|\n",
      "+--------+----------------+--------------------+----+--------------------+-------------------+----------+-------------+------------+-------------------+\n",
      "|       1|Toy Story (1995)|[Adventure, Anima...|1995|[{1990S, 1}, {200...|2006-01-12 19:19:35|      3.89|         0.93|       76813|1996-01-28 18:00:00|\n",
      "+--------+----------------+--------------------+----+--------------------+-------------------+----------+-------------+------------+-------------------+\n",
      "only showing top 1 row\n",
      "\n"
     ]
    }
   ],
   "source": [
    "movies_df.createOrReplaceTempView(\"movies\")\n",
    "\n",
    "spark.table(\"movies\").show(1)"
   ]
  },
  {
   "cell_type": "code",
   "execution_count": 30,
   "id": "b69787e0-13d6-4274-99cb-4e72599994a1",
   "metadata": {},
   "outputs": [
    {
     "name": "stdout",
     "output_type": "stream",
     "text": [
      "+-----------------+--------+----------------+\n",
      "|           concat|movie_id|           title|\n",
      "+-----------------+--------+----------------+\n",
      "|1Toy Story (1995)|       1|Toy Story (1995)|\n",
      "+-----------------+--------+----------------+\n",
      "only showing top 1 row\n",
      "\n"
     ]
    }
   ],
   "source": [
    "spark.udf.register(\"CONCAT_UDF_V1\", some_str_function)\n",
    "\n",
    "spark.sql(\"select CONCAT_UDF_V1(movie_id, title) as concat, movie_id, title from movies\").show(1)"
   ]
  },
  {
   "cell_type": "code",
   "execution_count": 32,
   "id": "e2200701-8c90-4200-a495-37ae7b6e574b",
   "metadata": {},
   "outputs": [
    {
     "name": "stdout",
     "output_type": "stream",
     "text": [
      "+-----------------+--------+----------------+\n",
      "|           concat|movie_id|           title|\n",
      "+-----------------+--------+----------------+\n",
      "|1Toy Story (1995)|       1|Toy Story (1995)|\n",
      "+-----------------+--------+----------------+\n",
      "only showing top 1 row\n",
      "\n"
     ]
    }
   ],
   "source": [
    "spark.udf.register(\"CONCAT_UDF_V2\", function_type1_udf)\n",
    "\n",
    "spark.sql(\"select CONCAT_UDF_V2(movie_id, title) as concat, movie_id, title from movies\").show(1)"
   ]
  },
  {
   "cell_type": "markdown",
   "id": "d63708a2-246a-4465-816d-c3bae598086e",
   "metadata": {},
   "source": [
    "##### UDF isn't null-safe!!"
   ]
  },
  {
   "cell_type": "code",
   "execution_count": 64,
   "id": "fad7555a-4fd6-4375-9795-e1663b14c27d",
   "metadata": {},
   "outputs": [
    {
     "data": {
      "text/plain": [
       "DataFrame[avg_rating: double, stddev_rating: double, sum_values: double]"
      ]
     },
     "execution_count": 64,
     "metadata": {},
     "output_type": "execute_result"
    }
   ],
   "source": [
    "def sum_values(val_1, val_2):\n",
    "    return val_1 + val_2\n",
    "\n",
    "number_ops_udf = f.udf(lambda val_1, val_2: sum_values(val_1, val_2), DoubleType())\n",
    "\n",
    "spark.udf.register(\"NUMBER_UPS_UDF\", number_ops_udf)\n",
    "\n",
    "spark \\\n",
    "    .sql(\"\"\"select avg_rating, stddev_rating, NUMBER_UPS_UDF(avg_rating, stddev_rating) as sum_values from movies\"\"\") \\\n",
    "    .filter(f.col(\"avg_rating\").isNull()) \\\n",
    "    #.show(10)"
   ]
  },
  {
   "cell_type": "code",
   "execution_count": 63,
   "id": "f644ed40-5ca9-4c91-9c04-8e1fcf769871",
   "metadata": {},
   "outputs": [
    {
     "name": "stdout",
     "output_type": "stream",
     "text": [
      "+----------+-------------+----------+\n",
      "|avg_rating|stddev_rating|sum_values|\n",
      "+----------+-------------+----------+\n",
      "|      null|         null|       0.0|\n",
      "|      null|         null|       0.0|\n",
      "|      null|         null|       0.0|\n",
      "|      null|         null|       0.0|\n",
      "|      null|         null|       0.0|\n",
      "|      null|         null|       0.0|\n",
      "|      null|         null|       0.0|\n",
      "|      null|         null|       0.0|\n",
      "|      null|         null|       0.0|\n",
      "|      null|         null|       0.0|\n",
      "+----------+-------------+----------+\n",
      "only showing top 10 rows\n",
      "\n"
     ]
    }
   ],
   "source": [
    "def sum_values_null_safe(val_1, val_2):\n",
    "    if (val_1 is None) | (val_2 is None):\n",
    "        return 0.0\n",
    "    return val_1 + val_2\n",
    "\n",
    "number_ops_udf = f.udf(lambda val_1, val_2: sum_values_null_safe(val_1, val_2), DoubleType())\n",
    "\n",
    "spark.udf.register(\"NUMBER_UPS_UDF\", number_ops_udf)\n",
    "\n",
    "spark \\\n",
    "    .sql(\"\"\"select avg_rating, stddev_rating, NUMBER_UPS_UDF(avg_rating, stddev_rating) as sum_values from movies\"\"\") \\\n",
    "    .filter(f.col(\"avg_rating\").isNull()) \\\n",
    "    .show(10)"
   ]
  },
  {
   "cell_type": "code",
   "execution_count": null,
   "id": "1f6b6d53-da67-44b8-bc4a-f621dd6e2d1a",
   "metadata": {},
   "outputs": [],
   "source": []
  }
 ],
 "metadata": {
  "kernelspec": {
   "display_name": "Python 3 (ipykernel)",
   "language": "python",
   "name": "python3"
  },
  "language_info": {
   "codemirror_mode": {
    "name": "ipython",
    "version": 3
   },
   "file_extension": ".py",
   "mimetype": "text/x-python",
   "name": "python",
   "nbconvert_exporter": "python",
   "pygments_lexer": "ipython3",
   "version": "3.9.13"
  }
 },
 "nbformat": 4,
 "nbformat_minor": 5
}
