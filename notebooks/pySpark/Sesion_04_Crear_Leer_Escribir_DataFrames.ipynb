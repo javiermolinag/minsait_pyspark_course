{
 "cells": [
  {
   "cell_type": "markdown",
   "id": "310df0be-54f1-4ae6-a179-67e407d8a1ad",
   "metadata": {},
   "source": [
    "- #### SparSession\n",
    "- #### Leer Dataframe\n",
    "- #### Esquema de un Dataframe\n",
    "- #### Crear Dataframe\n",
    "- #### Escribir Dataframe"
   ]
  },
  {
   "cell_type": "markdown",
   "id": "696bd9c1-3daf-4cb7-891a-e14f2ed8a6a8",
   "metadata": {},
   "source": [
    "## Hands on"
   ]
  },
  {
   "cell_type": "code",
   "execution_count": null,
   "id": "aada02ed-6ee5-4c80-a4f9-9e980d298398",
   "metadata": {},
   "outputs": [],
   "source": [
    "from pyspark.sql import SparkSession, Row\n",
    "from pyspark.sql.types import *"
   ]
  },
  {
   "cell_type": "markdown",
   "id": "5f52074d-797e-4418-a715-57e9072f94d3",
   "metadata": {},
   "source": [
    "### SparkSession"
   ]
  },
  {
   "cell_type": "code",
   "execution_count": null,
   "id": "26e4f019-9285-465f-a7a0-b287ad778ea7",
   "metadata": {},
   "outputs": [],
   "source": [
    "spark = SparkSession.builder \\\n",
    "        .appName(\"sesion_1\") \\\n",
    "        .master(\"local[*]\") \\\n",
    "        .getOrCreate()"
   ]
  },
  {
   "cell_type": "code",
   "execution_count": null,
   "id": "269aa5f5-a2b1-4e5c-a4c2-478ccb105244",
   "metadata": {},
   "outputs": [],
   "source": [
    "spark"
   ]
  },
  {
   "cell_type": "markdown",
   "id": "046bb0a3-fe80-487e-8a40-9af923b8e0e7",
   "metadata": {},
   "source": [
    "### Read DataFrame"
   ]
  },
  {
   "cell_type": "code",
   "execution_count": null,
   "id": "bf402d48-429e-4dd7-95dc-79dcf88b169f",
   "metadata": {},
   "outputs": [],
   "source": [
    "def read_csv(path):\n",
    "    return spark.read\\\n",
    "        .option(\"header\",\"true\")\\\n",
    "        .option(\"delimiter\",\",\")\\\n",
    "        .option(\"inferSchema\",\"false\")\\\n",
    "        .csv(path)\n",
    "\n",
    "def read_parquet(path):\n",
    "    return spark.read\\\n",
    "        .parquet(path)\n",
    "\n",
    "base_path = \"../../resources/data/csv/\"\n",
    "clients_df = read_csv(base_path + \"clients.csv\")\n",
    "contracts_df = read_csv(base_path + \"contracts.csv\")\n",
    "products_df = read_csv(base_path + \"products.csv\")\n",
    "\n",
    "clients_df.show()\n",
    "contracts_df.show()\n",
    "products_df.show()"
   ]
  },
  {
   "cell_type": "code",
   "execution_count": null,
   "id": "1b57aac4-0e63-4d3a-8270-20bce1520794",
   "metadata": {},
   "outputs": [],
   "source": [
    "clients_df.printSchema()\n",
    "clients_df.columns"
   ]
  },
  {
   "cell_type": "markdown",
   "id": "ea351534-8199-4be5-8812-d1f9cb34f94b",
   "metadata": {},
   "source": [
    "### Create Dataframe"
   ]
  },
  {
   "cell_type": "code",
   "execution_count": null,
   "id": "1c796ef7-9e33-417c-b709-74dc2c75f727",
   "metadata": {},
   "outputs": [],
   "source": [
    "data = [\n",
    "    Row(\"00001\", [\"2020-01-01\", \"2022-01-01\"]),\n",
    "    Row(\"00002\", [\"2022-01-01\", \"2023-01-01\", \"2010-01-01\"])\n",
    "]\n",
    "\n",
    "schema = StructType([\n",
    "    StructField(\"cod_client\", StringType()),\n",
    "    StructField(\"fecha_pago\", ArrayType(StringType()))\n",
    "])\n",
    "\n",
    "pagos_df = spark.createDataFrame(data, schema)\n",
    "\n",
    "pagos_df.show()\n",
    "pagos_df.printSchema()"
   ]
  },
  {
   "cell_type": "markdown",
   "id": "a48e7b37-47b9-4145-b558-79d858d067fb",
   "metadata": {},
   "source": [
    "### Write Dataframe"
   ]
  },
  {
   "cell_type": "code",
   "execution_count": null,
   "id": "8230e7ba-ec6a-4b68-9ac2-82dbbb3fc4e6",
   "metadata": {},
   "outputs": [],
   "source": [
    "base_path_parquet = \"../../resources/data/parquet/\"\n",
    "clients_df.write.mode(\"overwrite\").parquet(base_path_parquet + \"clients\")"
   ]
  },
  {
   "cell_type": "code",
   "execution_count": null,
   "id": "3e3fcdb6-2bf7-46bb-8090-8004038c9c70",
   "metadata": {},
   "outputs": [],
   "source": []
  }
 ],
 "metadata": {
  "kernelspec": {
   "display_name": "Python 3 (ipykernel)",
   "language": "python",
   "name": "python3"
  },
  "language_info": {
   "codemirror_mode": {
    "name": "ipython",
    "version": 3
   },
   "file_extension": ".py",
   "mimetype": "text/x-python",
   "name": "python",
   "nbconvert_exporter": "python",
   "pygments_lexer": "ipython3",
   "version": "3.9.13"
  }
 },
 "nbformat": 4,
 "nbformat_minor": 5
}
