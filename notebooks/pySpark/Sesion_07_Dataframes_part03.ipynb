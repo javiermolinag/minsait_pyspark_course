{
 "cells": [
  {
   "cell_type": "markdown",
   "id": "13beccdc-323e-4bb3-b80a-f48d3447aabf",
   "metadata": {},
   "source": [
    "- #### Transformaciones\n",
    "    - ##### sort/orderBy\n",
    "    - ##### dropDuplicates\n",
    "    - ##### distinct\n",
    "    - ##### groupBy\n",
    "    - ##### union/unionAll\n",
    "    - ##### unionByName"
   ]
  },
  {
   "cell_type": "code",
   "execution_count": null,
   "id": "43770df0-6ba9-477f-9438-d27658409647",
   "metadata": {},
   "outputs": [],
   "source": [
    "from pyspark.sql import SparkSession\n",
    "\n",
    "spark = SparkSession.builder \\\n",
    "        .appName(\"sesion_1\") \\\n",
    "        .master(\"local[*]\") \\\n",
    "        .getOrCreate()"
   ]
  },
  {
   "cell_type": "code",
   "execution_count": null,
   "id": "13b0fa8b-cf0f-475a-9b96-a735aba71861",
   "metadata": {},
   "outputs": [],
   "source": [
    "\n",
    "base_path = \"../../resources/data/parquet/\"\n",
    "contracts_df = spark.read.parquet(base_path + \"contracts_tmp\")\n",
    "\n",
    "contracts_df.show()\n",
    "contracts_df.printSchema()"
   ]
  },
  {
   "cell_type": "code",
   "execution_count": null,
   "id": "b6b93a85-c1f7-4e14-917c-1810848dc6a7",
   "metadata": {},
   "outputs": [],
   "source": [
    "# sort/orderBy\n",
    "\n",
    "import pyspark.sql.functions as f\n",
    "\n",
    "contracts_df.orderBy(f.col(\"cod_iuc\").desc(), f.col(\"fec_alta_fin\").desc()).show()"
   ]
  },
  {
   "cell_type": "code",
   "execution_count": null,
   "id": "f65370ab-774b-4672-96a7-2ab982bcc537",
   "metadata": {},
   "outputs": [],
   "source": [
    "# dropDuplicates distinct\n",
    "\n",
    "#contracts_df.dropDuplicates([\"cod_iuc\", \"cod_producto\"]).show()\n",
    "\n",
    "#contracts_df.distinct().show()"
   ]
  },
  {
   "cell_type": "code",
   "execution_count": null,
   "id": "70d0543a-4984-4873-ae29-8cbf258a4e99",
   "metadata": {},
   "outputs": [],
   "source": [
    "# groupBy -> count, max, min, avg, mean, sum\n",
    "\n",
    "#contracts_df.groupBy(\"cod_iuc\").count().show()\n",
    "#contracts_df.groupBy(f.col(\"cod_iuc\")).sum(\"diff\").show()\n",
    "#contracts_df.groupBy(f.col(\"cod_iuc\")).max(\"fec_alta_ini\").show()\n",
    "\n",
    "contracts_df.groupBy(f.col(\"cod_iuc\"), f.col(\"activo\"))\\\n",
    "    .agg(\n",
    "        f.count(\"*\").alias(\"count\"),\n",
    "        f.sum(\"diff\").alias(\"sum_diff\"),\n",
    "        f.max(\"diff\").alias(\"max_diff\"),\n",
    "        f.min(\"diff\").alias(\"min_diff\"),\n",
    "        f.mean(\"diff\").alias(\"mean_diff\"),\n",
    "        f.avg(\"diff\").alias(\"avg_diff\"),\n",
    "        f.max(\"fec_alta_ini\").alias(\"max_fec_alta_ini\")\n",
    "    ).show()\n"
   ]
  },
  {
   "cell_type": "code",
   "execution_count": null,
   "id": "85753db0-d5f5-42f0-ab6d-7503067a404a",
   "metadata": {},
   "outputs": [],
   "source": [
    "contracts_df\\\n",
    "    .groupBy(\"cod_iuc\") \\\n",
    "    .pivot(\"activo\") \\\n",
    "    .agg(\n",
    "        f.count(\"*\"),\n",
    "        f.max(\"fec_alta_fin\"),\n",
    "        f.avg(\"diff\")\n",
    "    ) \\\n",
    "    .show()"
   ]
  },
  {
   "cell_type": "code",
   "execution_count": null,
   "id": "cce4dd4a-59d0-4dbd-ba98-84801d2a45b1",
   "metadata": {},
   "outputs": [],
   "source": [
    "## union/unionAll unionByName\n",
    "contracts_tmp_df = contracts_df.filter(f.col(\"activo\").isNull())\n",
    "\n",
    "contracts_tmp_df.show()\n",
    "\n",
    "contracts_tmp_df.select(\"cod_titular\",\"fec_alta_ini\",\"actual_date\")\\\n",
    "    .union(contracts_tmp_df.select(\"cod_titular\",\"fec_alta_ini\",\"actual_date\")).show()\n",
    "\n",
    "contracts_tmp_df.select(\"cod_titular\",\"fec_alta_ini\",\"actual_date\")\\\n",
    "    .unionByName(contracts_tmp_df.select(\"actual_date\",\"cod_titular\",\"fec_alta_ini\")).show()"
   ]
  },
  {
   "cell_type": "code",
   "execution_count": null,
   "id": "15c0ad3d-d796-472e-bb63-85c6998c0dd0",
   "metadata": {},
   "outputs": [],
   "source": []
  }
 ],
 "metadata": {
  "kernelspec": {
   "display_name": "Python 3 (ipykernel)",
   "language": "python",
   "name": "python3"
  },
  "language_info": {
   "codemirror_mode": {
    "name": "ipython",
    "version": 3
   },
   "file_extension": ".py",
   "mimetype": "text/x-python",
   "name": "python",
   "nbconvert_exporter": "python",
   "pygments_lexer": "ipython3",
   "version": "3.9.13"
  }
 },
 "nbformat": 4,
 "nbformat_minor": 5
}
