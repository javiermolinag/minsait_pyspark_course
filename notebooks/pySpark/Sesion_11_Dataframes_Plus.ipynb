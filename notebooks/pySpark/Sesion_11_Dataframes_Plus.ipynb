{
 "cells": [
  {
   "cell_type": "markdown",
   "id": "a491a835-7add-4f73-9cb9-f5c7689e555b",
   "metadata": {},
   "source": [
    "- #### Transformaciones\n",
    "    - ##### cache, persist\n",
    "    - ##### coalesce, repartition\n",
    "    - ##### broadcast"
   ]
  },
  {
   "cell_type": "code",
   "execution_count": null,
   "id": "6956efa9-7ad7-4446-94c1-e2c207fcf290",
   "metadata": {},
   "outputs": [],
   "source": [
    "from pyspark.sql import SparkSession\n",
    "import pyspark.sql.functions as f\n",
    "\n",
    "spark = SparkSession.builder \\\n",
    "        .appName(\"sesion_10\") \\\n",
    "        .master(\"local[*]\") \\\n",
    "        .config(\"spark.sql.adaptive.enabled\", \"false\") \\\n",
    "        .getOrCreate()"
   ]
  },
  {
   "cell_type": "code",
   "execution_count": null,
   "id": "c8c7a07c-e36a-4eb4-9e67-65efd333918f",
   "metadata": {},
   "outputs": [],
   "source": [
    "spark.conf.set(\"spark.sql.adaptive.enabled\", \"false\")"
   ]
  },
  {
   "cell_type": "code",
   "execution_count": null,
   "id": "61015da1-9b3f-481c-91af-4b83c30ec252",
   "metadata": {},
   "outputs": [],
   "source": [
    "spark"
   ]
  },
  {
   "cell_type": "code",
   "execution_count": null,
   "id": "7b206961-7a2a-433f-895e-26834d4cf524",
   "metadata": {},
   "outputs": [],
   "source": [
    "base_path = \"../../resources/data/tmp/parquet/\"\n",
    "movies_df = spark.read.parquet(base_path + \"09/movies\")"
   ]
  },
  {
   "cell_type": "code",
   "execution_count": null,
   "id": "27f78f23-421d-4f34-afbd-caf8d54de7d7",
   "metadata": {},
   "outputs": [],
   "source": [
    "movies_df.show(1)"
   ]
  },
  {
   "cell_type": "code",
   "execution_count": null,
   "id": "e6967b87-5016-4e7f-a8b7-73e52afe93e7",
   "metadata": {},
   "outputs": [],
   "source": [
    "movies_df.count()"
   ]
  },
  {
   "cell_type": "code",
   "execution_count": null,
   "id": "6e0dbc4e-1ba4-4bd0-8cee-56eb44530662",
   "metadata": {},
   "outputs": [],
   "source": [
    "movies_df.printSchema()"
   ]
  },
  {
   "cell_type": "markdown",
   "id": "47b61397-f9ac-4ef1-9024-27cc5e9ea4a3",
   "metadata": {},
   "source": [
    "### cache, persist"
   ]
  },
  {
   "cell_type": "code",
   "execution_count": null,
   "id": "107800d2-676a-4d43-a7ab-518a493f45a2",
   "metadata": {},
   "outputs": [],
   "source": [
    "id_1_df = spark.range(1, 100000000, 1) \\\n",
    "    .select(\"id\", (f.col(\"id\") * 2).alias(\"id_mult_2\"))\n",
    "\n",
    "id_2_df = spark.range(1, 100000000, 2) \\\n",
    "    .select(\"id\", (f.col(\"id\") * 3).alias(\"id_mult_3\"))"
   ]
  },
  {
   "cell_type": "code",
   "execution_count": null,
   "id": "6cfae8c9-f924-47b9-a580-7ae678827f7f",
   "metadata": {},
   "outputs": [],
   "source": [
    "## expensive generation of id_join\n",
    "from pyspark.storagelevel import StorageLevel\n",
    "\n",
    "id_join = id_1_df.join(id_2_df, [\"id\"])#.persist(StorageLevel.DISK_ONLY)"
   ]
  },
  {
   "cell_type": "code",
   "execution_count": null,
   "id": "70d55b5e-0238-4c07-bf81-964f6dacdcfa",
   "metadata": {},
   "outputs": [],
   "source": [
    "id_join.count()"
   ]
  },
  {
   "cell_type": "code",
   "execution_count": null,
   "id": "1abb793c-e9d4-4fba-94cf-b1052daa6e7d",
   "metadata": {},
   "outputs": [],
   "source": [
    "result_1 = movies_df \\\n",
    "    .join(id_join, f.col(\"movie_id\") == f.col(\"id\"), \"left\") \\\n",
    "    .select(f.col(\"*\"), (f.col(\"year\") * (f.col(\"id\") % 2)).alias(\"other_id\"))"
   ]
  },
  {
   "cell_type": "code",
   "execution_count": null,
   "id": "490d8426-25a1-4105-849e-1d148556ac4a",
   "metadata": {},
   "outputs": [],
   "source": [
    "result_2 = result_1 \\\n",
    "    .join(id_join.select(f.col(\"id\")), [\"id\"], \"left_semi\")"
   ]
  },
  {
   "cell_type": "code",
   "execution_count": null,
   "id": "fa21ff48-94e5-4aca-adfb-7a366769be72",
   "metadata": {},
   "outputs": [],
   "source": [
    "result_2.count()"
   ]
  },
  {
   "cell_type": "code",
   "execution_count": null,
   "id": "07a9d939-0f8c-40b6-9363-11e6666bb132",
   "metadata": {},
   "outputs": [],
   "source": []
  },
  {
   "cell_type": "code",
   "execution_count": null,
   "id": "64894344-9703-4b37-8d50-a78e66b81a60",
   "metadata": {},
   "outputs": [],
   "source": []
  },
  {
   "cell_type": "code",
   "execution_count": null,
   "id": "1f52e9b2-c74b-4c8d-a3e7-4aab518c68e6",
   "metadata": {},
   "outputs": [],
   "source": []
  }
 ],
 "metadata": {
  "kernelspec": {
   "display_name": "Python 3 (ipykernel)",
   "language": "python",
   "name": "python3"
  },
  "language_info": {
   "codemirror_mode": {
    "name": "ipython",
    "version": 3
   },
   "file_extension": ".py",
   "mimetype": "text/x-python",
   "name": "python",
   "nbconvert_exporter": "python",
   "pygments_lexer": "ipython3",
   "version": "3.9.13"
  }
 },
 "nbformat": 4,
 "nbformat_minor": 5
}
