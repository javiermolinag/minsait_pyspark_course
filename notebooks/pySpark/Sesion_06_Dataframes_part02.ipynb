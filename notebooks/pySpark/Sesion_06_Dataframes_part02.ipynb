{
 "cells": [
  {
   "cell_type": "markdown",
   "id": "3c32b616-f93c-478f-821c-223802edb396",
   "metadata": {},
   "source": [
    "- #### Transformaciones\n",
    "    - ##### select - when\n",
    "    - ##### where/filter\r\n"
   ]
  },
  {
   "cell_type": "code",
   "execution_count": null,
   "id": "43770df0-6ba9-477f-9438-d27658409647",
   "metadata": {},
   "outputs": [],
   "source": [
    "from pyspark.sql import SparkSession\n",
    "\n",
    "spark = SparkSession.builder \\\n",
    "        .appName(\"sesion_1\") \\\n",
    "        .master(\"local[*]\") \\\n",
    "        .getOrCreate()"
   ]
  },
  {
   "cell_type": "code",
   "execution_count": null,
   "id": "13b0fa8b-cf0f-475a-9b96-a735aba71861",
   "metadata": {},
   "outputs": [],
   "source": [
    "def read_csv(path):\n",
    "    return spark.read\\\n",
    "        .option(\"header\",\"true\")\\\n",
    "        .option(\"delimiter\",\",\")\\\n",
    "        .option(\"inferSchema\",\"false\")\\\n",
    "        .csv(path)\n",
    "\n",
    "base_path = \"../../resources/data/csv/\"\n",
    "contracts_df = read_csv(base_path + \"contracts.csv\")\n",
    "\n",
    "contracts_df.show()"
   ]
  },
  {
   "cell_type": "code",
   "execution_count": null,
   "id": "0760c8c9-cad3-432e-b3f7-837d8b2e2aa8",
   "metadata": {},
   "outputs": [],
   "source": [
    "import pyspark.sql.functions as f\n",
    "import pyspark.sql.types as t\n",
    "\n",
    "# Select\n",
    "\n",
    "def difference(l1, l2):\n",
    "    return list(set(l1) - set(l2))\n",
    "\n",
    "resulted_df = contracts_df \\\n",
    "    .select(\n",
    "        *difference(contracts_df.columns, [\"fec_alta\", \"activo\"]),\n",
    "        f.col(\"activo\").cast(t.BooleanType()),\n",
    "        f.col(\"fec_alta\").alias(\"fec_alta_ini\").cast(t.DateType()),\n",
    "        f.current_date().alias(\"actual_date\"),\n",
    "        f.round(f.rand(0) * f.lit(10)).cast(t.IntegerType()).alias(\"randm_num\"),\n",
    "        f.date_add(f.col(\"fec_alta_ini\"), f.col(\"randm_num\")).alias(\"fec_alta_fin\"),\n",
    "        f.datediff(f.col(\"fec_alta_fin\"), f.col(\"fec_alta_ini\")).alias(\"diff\")\n",
    "        ) \\\n",
    "    .drop(\"randm_num\")\n",
    "\n",
    "resulted_df.show()\n",
    "resulted_df.printSchema()"
   ]
  },
  {
   "cell_type": "code",
   "execution_count": null,
   "id": "d4a8754e-8ee1-401b-b2d7-00063e6a09db",
   "metadata": {},
   "outputs": [],
   "source": [
    "# select- when\n",
    "\n",
    "cond_1 = f.col(\"cod_producto\") <= 300 # baja\n",
    "cond_2 = f.col(\"cod_producto\") <= 600 # media\n",
    "cond_3 = f.col(\"cod_producto\") <= 1000 # alta\n",
    "\n",
    "select_when_df = resulted_df \\\n",
    "    .select(\n",
    "        *difference(resulted_df.columns, [\"activo\"]),\n",
    "        f.when(cond_1, f.lit(\"baja\"))\n",
    "            .when(cond_2, f.lit(\"media\"))\n",
    "            .when(cond_3, f.lit(\"alta\"))\n",
    "            .otherwise(f.lit(\"muy alta\")).alias(\"calidad\"),\n",
    "        f.when((f.col(\"activo\") == f.lit(True)) & (f.col(\"calidad\").isin(\"alta\", \"muy alta\")), f.lit(\"ok\")).alias(\"prioridad_alta\"),\n",
    "        f.when(f.col(\"activo\") == True, f.lit(True)).alias(\"activo\")\n",
    "    )\n",
    "\n",
    "select_when_df.show()"
   ]
  },
  {
   "cell_type": "code",
   "execution_count": null,
   "id": "c41ac942-58bc-4b82-90a6-0506349588a2",
   "metadata": {},
   "outputs": [],
   "source": [
    "# where / filter\n",
    "select_when_df \\\n",
    "    .filter(f.col(\"activo\").isNotNull()) \\\n",
    "    .filter(~f.col(\"cod_producto\").isin(\"100\", \"200\", \"150\", \"300\")) \\\n",
    "    .where(f.col(\"fec_alta_ini\").between(\"2014-02-01\", \"2018-10-01\")) \\\n",
    "    .where((f.col(\"calidad\") == \"media\") | (f.col(\"cod_titular\").isin(\"00006\", \"00001\"))) \\\n",
    "    .show()"
   ]
  },
  {
   "cell_type": "code",
   "execution_count": null,
   "id": "b6b93a85-c1f7-4e14-917c-1810848dc6a7",
   "metadata": {},
   "outputs": [],
   "source": [
    "select_when_df \\\n",
    "    .write.mode(\"overwrite\").parquet(\"../../resources/data/parquet/contracts_tmp\")"
   ]
  },
  {
   "cell_type": "code",
   "execution_count": null,
   "id": "7a5561ac-6fef-4c93-92dc-507334cdd822",
   "metadata": {},
   "outputs": [],
   "source": []
  }
 ],
 "metadata": {
  "kernelspec": {
   "display_name": "Python 3 (ipykernel)",
   "language": "python",
   "name": "python3"
  },
  "language_info": {
   "codemirror_mode": {
    "name": "ipython",
    "version": 3
   },
   "file_extension": ".py",
   "mimetype": "text/x-python",
   "name": "python",
   "nbconvert_exporter": "python",
   "pygments_lexer": "ipython3",
   "version": "3.9.13"
  }
 },
 "nbformat": 4,
 "nbformat_minor": 5
}
