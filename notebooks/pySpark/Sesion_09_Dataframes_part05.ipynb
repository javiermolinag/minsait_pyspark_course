{
 "cells": [
  {
   "cell_type": "markdown",
   "id": "a491a835-7add-4f73-9cb9-f5c7689e555b",
   "metadata": {},
   "source": [
    "- #### Transformaciones\n",
    "    - ##### Windows"
   ]
  },
  {
   "cell_type": "code",
   "execution_count": null,
   "id": "6956efa9-7ad7-4446-94c1-e2c207fcf290",
   "metadata": {},
   "outputs": [],
   "source": [
    "from pyspark.sql import SparkSession\n",
    "\n",
    "spark = SparkSession.builder \\\n",
    "        .appName(\"sesion_1\") \\\n",
    "        .master(\"local[*]\") \\\n",
    "        .getOrCreate()"
   ]
  },
  {
   "cell_type": "code",
   "execution_count": null,
   "id": "7b206961-7a2a-433f-895e-26834d4cf524",
   "metadata": {},
   "outputs": [],
   "source": [
    "def read_csv(path):\n",
    "    return spark.read\\\n",
    "        .option(\"header\",\"true\")\\\n",
    "        .option(\"delimiter\",\",\")\\\n",
    "        .option(\"inferSchema\",\"false\")\\\n",
    "        .csv(path)\n",
    "\n",
    "base_path = \"../../resources/data/csv/\"\n",
    "contracts_df = read_csv(base_path + \"contracts.csv\")\n",
    "contracts_df.show()"
   ]
  },
  {
   "cell_type": "code",
   "execution_count": null,
   "id": "b1a2b5b9-8eb1-46cb-8dc1-58a66fb82282",
   "metadata": {},
   "outputs": [],
   "source": [
    "# Windows\n",
    "    # Agregacion -> max, min, count, avg, mean, sum, ...\n",
    "    # Ranking -> row_number, rank, dense_rank, ...\n",
    "    # lag lead\n",
    "\n",
    "from pyspark.sql import Window\n",
    "import pyspark.sql.functions as f\n",
    "\n",
    "contracts_df.orderBy(f.col(\"cod_iuc\")).show()\n",
    "\n",
    "window_1 = Window.partitionBy(f.col(\"cod_iuc\"))\n",
    "window_2 = Window.partitionBy(f.col(\"cod_iuc\")).orderBy(f.col(\"fec_alta\").asc())\n",
    "\n",
    "\n",
    "contracts_df.select(\n",
    "    *contracts_df.columns,\n",
    "    f.count(\"*\").over(window_1).alias(\"count_w\"),\n",
    "    f.max(f.col(\"fec_alta\")).over(window_2).alias(\"max_fec_alta_w\"),\n",
    "    f.sum(f.col(\"cod_producto\")).over(window_2).alias(\"sum_cod_producto_w\")\n",
    ").show()"
   ]
  },
  {
   "cell_type": "code",
   "execution_count": null,
   "id": "ce5e506d-a5fc-4908-a681-e7ed365a94f8",
   "metadata": {},
   "outputs": [],
   "source": [
    "contracts_df.orderBy(f.col(\"cod_iuc\")).show()\n",
    "\n",
    "window_3 = Window.partitionBy(f.col(\"cod_iuc\")).orderBy(f.col(\"cod_titular\").asc())\n",
    "\n",
    "\n",
    "contracts_df.select(\n",
    "    *contracts_df.columns,\n",
    "    f.row_number().over(window_3).alias(\"row_number\"),\n",
    "    f.rank().over(window_3).alias(\"rank\"),\n",
    "    f.dense_rank().over(window_3).alias(\"dense_rank\")\n",
    ").show(100)"
   ]
  },
  {
   "cell_type": "code",
   "execution_count": null,
   "id": "a9a67d5c-ca6b-4606-a00c-a9cda6d5a3a9",
   "metadata": {},
   "outputs": [],
   "source": [
    "contracts_df.orderBy(f.col(\"cod_iuc\")).show()\n",
    "\n",
    "window_4 = Window.partitionBy(f.col(\"cod_iuc\")).orderBy(f.col(\"fec_alta\").desc())\n",
    "\n",
    "\n",
    "contracts_df.select(\n",
    "    *contracts_df.columns,\n",
    "    f.lag(f.col(\"fec_alta\"), 1, \"1970-01-01\").over(window_4).alias(\"lag\"),\n",
    "    f.lead(f.col(\"fec_alta\"), 1, \"1970-01-01\").over(window_4).alias(\"lead\")\n",
    ").show(100)"
   ]
  },
  {
   "cell_type": "code",
   "execution_count": null,
   "id": "223c9f7c-4cee-4f39-ad0c-f8cb32a4d57c",
   "metadata": {},
   "outputs": [],
   "source": []
  }
 ],
 "metadata": {
  "kernelspec": {
   "display_name": "Python 3 (ipykernel)",
   "language": "python",
   "name": "python3"
  },
  "language_info": {
   "codemirror_mode": {
    "name": "ipython",
    "version": 3
   },
   "file_extension": ".py",
   "mimetype": "text/x-python",
   "name": "python",
   "nbconvert_exporter": "python",
   "pygments_lexer": "ipython3",
   "version": "3.9.13"
  }
 },
 "nbformat": 4,
 "nbformat_minor": 5
}
