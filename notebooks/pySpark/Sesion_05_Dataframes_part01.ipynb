{
 "cells": [
  {
   "cell_type": "markdown",
   "id": "d46a80c1-2dcf-46a3-a800-c54225283ea1",
   "metadata": {},
   "source": [
    "- #### Acciones\n",
    "    - ##### count\n",
    "    - ##### collect\n",
    "    - ##### show\n",
    "    - ##### isEmpty\n",
    "    - ##### head\n",
    "    - ##### first\n",
    "    - ##### take\n",
    "    - ##### tail\n",
    "- #### Transformaciones\n",
    "    - ##### withColumn\n",
    "    - ##### withColumnRenamed\n",
    "    - ##### drop"
   ]
  },
  {
   "cell_type": "code",
   "execution_count": null,
   "id": "134ad6e6-d9d8-4a4e-8ff2-c3b8e57df985",
   "metadata": {},
   "outputs": [],
   "source": [
    "from pyspark.sql import SparkSession\n",
    "\n",
    "spark = SparkSession.builder \\\n",
    "        .appName(\"sesion_1\") \\\n",
    "        .master(\"local[*]\") \\\n",
    "        .getOrCreate()"
   ]
  },
  {
   "cell_type": "code",
   "execution_count": null,
   "id": "5507947c-4d93-4278-b1af-a0c28e08f1af",
   "metadata": {},
   "outputs": [],
   "source": [
    "def read_csv(path):\n",
    "    return spark.read\\\n",
    "        .option(\"header\",\"true\")\\\n",
    "        .option(\"delimiter\",\",\")\\\n",
    "        .option(\"inferSchema\",\"false\")\\\n",
    "        .csv(path)\n",
    "\n",
    "base_path = \"../../resources/data/csv/\"\n",
    "contracts_df = read_csv(base_path + \"contracts.csv\")\n",
    "\n",
    "contracts_df.show()"
   ]
  },
  {
   "cell_type": "markdown",
   "id": "c77c349c-9299-4d90-b4fb-02bae3694b06",
   "metadata": {},
   "source": [
    "## Actions"
   ]
  },
  {
   "cell_type": "code",
   "execution_count": null,
   "id": "cc4b1862-d330-42c2-9436-90502e521998",
   "metadata": {},
   "outputs": [],
   "source": [
    "#count\n",
    "print(contracts_df.count())"
   ]
  },
  {
   "cell_type": "code",
   "execution_count": null,
   "id": "a2d7096d-f37a-4125-a77e-8346590b7223",
   "metadata": {},
   "outputs": [],
   "source": [
    "#collect\n",
    "print(contracts_df.collect())"
   ]
  },
  {
   "cell_type": "code",
   "execution_count": null,
   "id": "cd0b99ea-024e-4a95-b0b4-f89fdf06f8a1",
   "metadata": {},
   "outputs": [],
   "source": [
    "#show\n",
    "contracts_df.show(5, False)"
   ]
  },
  {
   "cell_type": "code",
   "execution_count": null,
   "id": "ede11ad5-4952-458c-97b0-0a2620520b35",
   "metadata": {},
   "outputs": [],
   "source": [
    "#isEmpty\n",
    "contracts_df.isEmpty()"
   ]
  },
  {
   "cell_type": "code",
   "execution_count": null,
   "id": "e156f064-842e-4f09-bec1-058dc814bdf1",
   "metadata": {},
   "outputs": [],
   "source": [
    "#first() -> primer elemento del df -> head()\n",
    "#head(n) -> primer N-elementos del df -> take(n)\n",
    "#take -> primer N-elementos del df -> limit().collect()\n",
    "\n",
    "contracts_df.head(3)"
   ]
  },
  {
   "cell_type": "code",
   "execution_count": null,
   "id": "32e63b1f-baaf-403b-8d38-16f97df0d807",
   "metadata": {},
   "outputs": [],
   "source": [
    "#tail\n",
    "contracts_df.tail(3)"
   ]
  },
  {
   "cell_type": "markdown",
   "id": "50fe740c-769e-4fbe-a0d9-838d0ac84792",
   "metadata": {},
   "source": [
    "## Transformations"
   ]
  },
  {
   "cell_type": "code",
   "execution_count": null,
   "id": "5131bfc7-4f39-4e61-807b-909482bd695f",
   "metadata": {},
   "outputs": [],
   "source": [
    "import pyspark.sql.functions as f\n",
    "import pyspark.sql.types as t"
   ]
  },
  {
   "cell_type": "markdown",
   "id": "080c6cb3-a52b-4dcf-8d82-0f554963455d",
   "metadata": {},
   "source": [
    "#### withColumn, withColumnRenamed, drop"
   ]
  },
  {
   "cell_type": "code",
   "execution_count": null,
   "id": "8b325471-7613-467d-adbf-60c6d72695d4",
   "metadata": {},
   "outputs": [],
   "source": [
    "resulted_df = contracts_df \\\n",
    "    .withColumnRenamed(\"fec_alta\", \"fec_alta_ini\") \\\n",
    "    .withColumn(\"actual_date\", f.current_date()) \\\n",
    "    .withColumn(\"randm_num\", f.round(f.rand(0) * f.lit(10)).cast(t.IntegerType())) \\\n",
    "    .withColumn(\"fec_alta_fin\", f.date_add(f.col(\"fec_alta_ini\"), f.col(\"randm_num\"))) \\\n",
    "    .withColumn(\"diff\", f.datediff(f.col(\"fec_alta_fin\"), f.col(\"fec_alta_ini\"))) \\\n",
    "    .drop(\"randm_num\")\n",
    "\n",
    "resulted_df.show()\n",
    "resulted_df.printSchema()"
   ]
  },
  {
   "cell_type": "code",
   "execution_count": null,
   "id": "72a411d9-a3dc-4586-874f-9ca7bd2cf9f4",
   "metadata": {},
   "outputs": [],
   "source": [
    "dict_cols = {\n",
    "    \"actual_date\": f.current_date(),\n",
    "    \"randm_num\": f.round(f.rand(0) * f.lit(10)).cast(t.IntegerType()),\n",
    "    \"fec_alta_fin\": f.date_add(f.col(\"fec_alta_ini\"), f.col(\"randm_num\")),\n",
    "    \"diff\": f.datediff(f.col(\"fec_alta_fin\"), f.col(\"fec_alta_ini\"))\n",
    "}\n",
    "\n",
    "resulted_df = contracts_df \\\n",
    "    .withColumnRenamed(\"fec_alta\", \"fec_alta_ini\") \\\n",
    "    .withColumns(dict_cols) \\\n",
    "    .drop(\"randm_num\")\n",
    "\n",
    "resulted_df.show()\n",
    "resulted_df.printSchema()"
   ]
  },
  {
   "cell_type": "code",
   "execution_count": null,
   "id": "4bb278ac-7da4-46fa-851f-0dd934154f08",
   "metadata": {},
   "outputs": [],
   "source": []
  }
 ],
 "metadata": {
  "kernelspec": {
   "display_name": "Python 3 (ipykernel)",
   "language": "python",
   "name": "python3"
  },
  "language_info": {
   "codemirror_mode": {
    "name": "ipython",
    "version": 3
   },
   "file_extension": ".py",
   "mimetype": "text/x-python",
   "name": "python",
   "nbconvert_exporter": "python",
   "pygments_lexer": "ipython3",
   "version": "3.9.13"
  }
 },
 "nbformat": 4,
 "nbformat_minor": 5
}
